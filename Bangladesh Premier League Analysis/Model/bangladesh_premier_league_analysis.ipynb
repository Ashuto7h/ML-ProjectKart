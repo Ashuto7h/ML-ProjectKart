{
  "nbformat": 4,
  "nbformat_minor": 0,
  "metadata": {
    "colab": {
      "provenance": [],
      "gpuType": "T4"
    },
    "kernelspec": {
      "name": "python3",
      "display_name": "Python 3"
    },
    "language_info": {
      "name": "python"
    }
  },
  "cells": [
    {
      "cell_type": "code",
      "execution_count": 1,
      "metadata": {
        "colab": {
          "base_uri": "https://localhost:8080/"
        },
        "id": "N5InkRUOR2Zl",
        "outputId": "b5a965f9-20a3-4385-eacf-de4ecd056a46"
      },
      "outputs": [
        {
          "output_type": "stream",
          "name": "stdout",
          "text": [
            "Drive already mounted at /content/drive; to attempt to forcibly remount, call drive.mount(\"/content/drive\", force_remount=True).\n"
          ]
        }
      ],
      "source": [
        "from google.colab import drive\n",
        "drive.mount('/content/drive')"
      ]
    },
    {
      "cell_type": "code",
      "source": [
        "!pip install -q kaggle\n",
        "!mkdir -p ~/.kaggle\n",
        "!cp /content/drive/MyDrive/kaggle.json ~/.kaggle/\n",
        "!chmod 600 ~/.kaggle/kaggle.json"
      ],
      "metadata": {
        "id": "LBgX7zKvSLms"
      },
      "execution_count": 2,
      "outputs": []
    },
    {
      "cell_type": "code",
      "source": [
        "import os\n",
        "import kaggle\n",
        "os.environ['KAGGLE_CONFIG_DIR'] = '/root/.kaggle/'\n",
        "kaggle.api.authenticate()\n",
        "kaggle.api.dataset_download_files('abdunnoor11/bpl-data', unzip=True)"
      ],
      "metadata": {
        "id": "N0tWEjNnS8kf"
      },
      "execution_count": 3,
      "outputs": []
    },
    {
      "cell_type": "markdown",
      "source": [
        "# Bangladesh Premier League Analysis\n",
        "\n",
        "- Dataset from Kaggle [Link](https://www.kaggle.com/abdunnoor11/bpl-data)"
      ],
      "metadata": {
        "id": "e14YogA_VjrR"
      }
    },
    {
      "cell_type": "code",
      "source": [
        "import pandas as pd\n",
        "import operator\n",
        "import matplotlib.pyplot as plt\n"
      ],
      "metadata": {
        "id": "MgUtDZewSuMF"
      },
      "execution_count": 4,
      "outputs": []
    },
    {
      "cell_type": "code",
      "source": [
        "df = pd.read_csv('/content/bpl.csv')\n",
        "print(df.shape)\n",
        "df.head()"
      ],
      "metadata": {
        "colab": {
          "base_uri": "https://localhost:8080/",
          "height": 590
        },
        "id": "OmCa9_IcS07b",
        "outputId": "ff524df9-c51a-4f9f-bac6-24122e1a6ae3"
      },
      "execution_count": 5,
      "outputs": [
        {
          "output_type": "stream",
          "name": "stdout",
          "text": [
            "(311, 19)\n"
          ]
        },
        {
          "output_type": "execute_result",
          "data": {
            "text/plain": [
              "   id   season match_no         date                team_1 team_1_score  \\\n",
              "0   0  2011/12    Final  Feb 29 2012       Barisal Burners        140/7   \n",
              "1  30  2011/12      3rd  Feb 11 2012  Khulna Royal Bengals        175/5   \n",
              "2  26  2011/12      7th  Feb 13 2012       Barisal Burners          125   \n",
              "3  29  2011/12      4th  Feb 11 2012       Barisal Burners        180/2   \n",
              "4  28  2011/12      5th  Feb 12 2012  Khulna Royal Bengals        171/3   \n",
              "\n",
              "                 team_2 team_2_score player_of_match           toss_winner  \\\n",
              "0      Dhaka Gladiators        144/2     Imran Nazir      Dhaka Gladiators   \n",
              "1      Dhaka Gladiators        156/7   Andre Russell  Khulna Royal Bengals   \n",
              "2  Khulna Royal Bengals        131/3    Dwayne Smith  Khulna Royal Bengals   \n",
              "3      Duronto Rajshahi        158/9   Ahmed Shehzad       Barisal Burners   \n",
              "4      Chittagong Kings        174/4   Nasir Jamshed  Khulna Royal Bengals   \n",
              "\n",
              "  toss_decision      winner                                  venue    city  \\\n",
              "0   field first       Dhaka  Shere Bangla National Stadium, Mirpur  Mirpur   \n",
              "1     bat first      Khulna  Shere Bangla National Stadium, Mirpur  Mirpur   \n",
              "2   field first      Khulna  Shere Bangla National Stadium, Mirpur  Mirpur   \n",
              "3     bat first     Barisal  Shere Bangla National Stadium, Mirpur  Mirpur   \n",
              "4     bat first  Chittagong  Shere Bangla National Stadium, Mirpur  Mirpur   \n",
              "\n",
              "   win_by_wickets  win_by_runs     result       umpire_1       umpire_2  \n",
              "0               8            0  8 wickets  David Orchard   Enamul Haque  \n",
              "1               0           19    19 runs  Jeremy Lloyds   Sharfuddoula  \n",
              "2               7            0  7 wickets   Enamul Haque  Jeremy Lloyds  \n",
              "3               0           22    22 runs  David Orchard     Gazi Sohel  \n",
              "4               6            0  6 wickets  David Orchard   Enamul Haque  "
            ],
            "text/html": [
              "\n",
              "  <div id=\"df-6948c1c2-a617-47aa-b8f7-f3ddb2e4763f\" class=\"colab-df-container\">\n",
              "    <div>\n",
              "<style scoped>\n",
              "    .dataframe tbody tr th:only-of-type {\n",
              "        vertical-align: middle;\n",
              "    }\n",
              "\n",
              "    .dataframe tbody tr th {\n",
              "        vertical-align: top;\n",
              "    }\n",
              "\n",
              "    .dataframe thead th {\n",
              "        text-align: right;\n",
              "    }\n",
              "</style>\n",
              "<table border=\"1\" class=\"dataframe\">\n",
              "  <thead>\n",
              "    <tr style=\"text-align: right;\">\n",
              "      <th></th>\n",
              "      <th>id</th>\n",
              "      <th>season</th>\n",
              "      <th>match_no</th>\n",
              "      <th>date</th>\n",
              "      <th>team_1</th>\n",
              "      <th>team_1_score</th>\n",
              "      <th>team_2</th>\n",
              "      <th>team_2_score</th>\n",
              "      <th>player_of_match</th>\n",
              "      <th>toss_winner</th>\n",
              "      <th>toss_decision</th>\n",
              "      <th>winner</th>\n",
              "      <th>venue</th>\n",
              "      <th>city</th>\n",
              "      <th>win_by_wickets</th>\n",
              "      <th>win_by_runs</th>\n",
              "      <th>result</th>\n",
              "      <th>umpire_1</th>\n",
              "      <th>umpire_2</th>\n",
              "    </tr>\n",
              "  </thead>\n",
              "  <tbody>\n",
              "    <tr>\n",
              "      <th>0</th>\n",
              "      <td>0</td>\n",
              "      <td>2011/12</td>\n",
              "      <td>Final</td>\n",
              "      <td>Feb 29 2012</td>\n",
              "      <td>Barisal Burners</td>\n",
              "      <td>140/7</td>\n",
              "      <td>Dhaka Gladiators</td>\n",
              "      <td>144/2</td>\n",
              "      <td>Imran Nazir</td>\n",
              "      <td>Dhaka Gladiators</td>\n",
              "      <td>field first</td>\n",
              "      <td>Dhaka</td>\n",
              "      <td>Shere Bangla National Stadium, Mirpur</td>\n",
              "      <td>Mirpur</td>\n",
              "      <td>8</td>\n",
              "      <td>0</td>\n",
              "      <td>8 wickets</td>\n",
              "      <td>David Orchard</td>\n",
              "      <td>Enamul Haque</td>\n",
              "    </tr>\n",
              "    <tr>\n",
              "      <th>1</th>\n",
              "      <td>30</td>\n",
              "      <td>2011/12</td>\n",
              "      <td>3rd</td>\n",
              "      <td>Feb 11 2012</td>\n",
              "      <td>Khulna Royal Bengals</td>\n",
              "      <td>175/5</td>\n",
              "      <td>Dhaka Gladiators</td>\n",
              "      <td>156/7</td>\n",
              "      <td>Andre Russell</td>\n",
              "      <td>Khulna Royal Bengals</td>\n",
              "      <td>bat first</td>\n",
              "      <td>Khulna</td>\n",
              "      <td>Shere Bangla National Stadium, Mirpur</td>\n",
              "      <td>Mirpur</td>\n",
              "      <td>0</td>\n",
              "      <td>19</td>\n",
              "      <td>19 runs</td>\n",
              "      <td>Jeremy Lloyds</td>\n",
              "      <td>Sharfuddoula</td>\n",
              "    </tr>\n",
              "    <tr>\n",
              "      <th>2</th>\n",
              "      <td>26</td>\n",
              "      <td>2011/12</td>\n",
              "      <td>7th</td>\n",
              "      <td>Feb 13 2012</td>\n",
              "      <td>Barisal Burners</td>\n",
              "      <td>125</td>\n",
              "      <td>Khulna Royal Bengals</td>\n",
              "      <td>131/3</td>\n",
              "      <td>Dwayne Smith</td>\n",
              "      <td>Khulna Royal Bengals</td>\n",
              "      <td>field first</td>\n",
              "      <td>Khulna</td>\n",
              "      <td>Shere Bangla National Stadium, Mirpur</td>\n",
              "      <td>Mirpur</td>\n",
              "      <td>7</td>\n",
              "      <td>0</td>\n",
              "      <td>7 wickets</td>\n",
              "      <td>Enamul Haque</td>\n",
              "      <td>Jeremy Lloyds</td>\n",
              "    </tr>\n",
              "    <tr>\n",
              "      <th>3</th>\n",
              "      <td>29</td>\n",
              "      <td>2011/12</td>\n",
              "      <td>4th</td>\n",
              "      <td>Feb 11 2012</td>\n",
              "      <td>Barisal Burners</td>\n",
              "      <td>180/2</td>\n",
              "      <td>Duronto Rajshahi</td>\n",
              "      <td>158/9</td>\n",
              "      <td>Ahmed Shehzad</td>\n",
              "      <td>Barisal Burners</td>\n",
              "      <td>bat first</td>\n",
              "      <td>Barisal</td>\n",
              "      <td>Shere Bangla National Stadium, Mirpur</td>\n",
              "      <td>Mirpur</td>\n",
              "      <td>0</td>\n",
              "      <td>22</td>\n",
              "      <td>22 runs</td>\n",
              "      <td>David Orchard</td>\n",
              "      <td>Gazi Sohel</td>\n",
              "    </tr>\n",
              "    <tr>\n",
              "      <th>4</th>\n",
              "      <td>28</td>\n",
              "      <td>2011/12</td>\n",
              "      <td>5th</td>\n",
              "      <td>Feb 12 2012</td>\n",
              "      <td>Khulna Royal Bengals</td>\n",
              "      <td>171/3</td>\n",
              "      <td>Chittagong Kings</td>\n",
              "      <td>174/4</td>\n",
              "      <td>Nasir Jamshed</td>\n",
              "      <td>Khulna Royal Bengals</td>\n",
              "      <td>bat first</td>\n",
              "      <td>Chittagong</td>\n",
              "      <td>Shere Bangla National Stadium, Mirpur</td>\n",
              "      <td>Mirpur</td>\n",
              "      <td>6</td>\n",
              "      <td>0</td>\n",
              "      <td>6 wickets</td>\n",
              "      <td>David Orchard</td>\n",
              "      <td>Enamul Haque</td>\n",
              "    </tr>\n",
              "  </tbody>\n",
              "</table>\n",
              "</div>\n",
              "    <div class=\"colab-df-buttons\">\n",
              "\n",
              "  <div class=\"colab-df-container\">\n",
              "    <button class=\"colab-df-convert\" onclick=\"convertToInteractive('df-6948c1c2-a617-47aa-b8f7-f3ddb2e4763f')\"\n",
              "            title=\"Convert this dataframe to an interactive table.\"\n",
              "            style=\"display:none;\">\n",
              "\n",
              "  <svg xmlns=\"http://www.w3.org/2000/svg\" height=\"24px\" viewBox=\"0 -960 960 960\">\n",
              "    <path d=\"M120-120v-720h720v720H120Zm60-500h600v-160H180v160Zm220 220h160v-160H400v160Zm0 220h160v-160H400v160ZM180-400h160v-160H180v160Zm440 0h160v-160H620v160ZM180-180h160v-160H180v160Zm440 0h160v-160H620v160Z\"/>\n",
              "  </svg>\n",
              "    </button>\n",
              "\n",
              "  <style>\n",
              "    .colab-df-container {\n",
              "      display:flex;\n",
              "      gap: 12px;\n",
              "    }\n",
              "\n",
              "    .colab-df-convert {\n",
              "      background-color: #E8F0FE;\n",
              "      border: none;\n",
              "      border-radius: 50%;\n",
              "      cursor: pointer;\n",
              "      display: none;\n",
              "      fill: #1967D2;\n",
              "      height: 32px;\n",
              "      padding: 0 0 0 0;\n",
              "      width: 32px;\n",
              "    }\n",
              "\n",
              "    .colab-df-convert:hover {\n",
              "      background-color: #E2EBFA;\n",
              "      box-shadow: 0px 1px 2px rgba(60, 64, 67, 0.3), 0px 1px 3px 1px rgba(60, 64, 67, 0.15);\n",
              "      fill: #174EA6;\n",
              "    }\n",
              "\n",
              "    .colab-df-buttons div {\n",
              "      margin-bottom: 4px;\n",
              "    }\n",
              "\n",
              "    [theme=dark] .colab-df-convert {\n",
              "      background-color: #3B4455;\n",
              "      fill: #D2E3FC;\n",
              "    }\n",
              "\n",
              "    [theme=dark] .colab-df-convert:hover {\n",
              "      background-color: #434B5C;\n",
              "      box-shadow: 0px 1px 3px 1px rgba(0, 0, 0, 0.15);\n",
              "      filter: drop-shadow(0px 1px 2px rgba(0, 0, 0, 0.3));\n",
              "      fill: #FFFFFF;\n",
              "    }\n",
              "  </style>\n",
              "\n",
              "    <script>\n",
              "      const buttonEl =\n",
              "        document.querySelector('#df-6948c1c2-a617-47aa-b8f7-f3ddb2e4763f button.colab-df-convert');\n",
              "      buttonEl.style.display =\n",
              "        google.colab.kernel.accessAllowed ? 'block' : 'none';\n",
              "\n",
              "      async function convertToInteractive(key) {\n",
              "        const element = document.querySelector('#df-6948c1c2-a617-47aa-b8f7-f3ddb2e4763f');\n",
              "        const dataTable =\n",
              "          await google.colab.kernel.invokeFunction('convertToInteractive',\n",
              "                                                    [key], {});\n",
              "        if (!dataTable) return;\n",
              "\n",
              "        const docLinkHtml = 'Like what you see? Visit the ' +\n",
              "          '<a target=\"_blank\" href=https://colab.research.google.com/notebooks/data_table.ipynb>data table notebook</a>'\n",
              "          + ' to learn more about interactive tables.';\n",
              "        element.innerHTML = '';\n",
              "        dataTable['output_type'] = 'display_data';\n",
              "        await google.colab.output.renderOutput(dataTable, element);\n",
              "        const docLink = document.createElement('div');\n",
              "        docLink.innerHTML = docLinkHtml;\n",
              "        element.appendChild(docLink);\n",
              "      }\n",
              "    </script>\n",
              "  </div>\n",
              "\n",
              "\n",
              "<div id=\"df-b1572d0a-f12b-44de-bec2-cde083d75b4b\">\n",
              "  <button class=\"colab-df-quickchart\" onclick=\"quickchart('df-b1572d0a-f12b-44de-bec2-cde083d75b4b')\"\n",
              "            title=\"Suggest charts\"\n",
              "            style=\"display:none;\">\n",
              "\n",
              "<svg xmlns=\"http://www.w3.org/2000/svg\" height=\"24px\"viewBox=\"0 0 24 24\"\n",
              "     width=\"24px\">\n",
              "    <g>\n",
              "        <path d=\"M19 3H5c-1.1 0-2 .9-2 2v14c0 1.1.9 2 2 2h14c1.1 0 2-.9 2-2V5c0-1.1-.9-2-2-2zM9 17H7v-7h2v7zm4 0h-2V7h2v10zm4 0h-2v-4h2v4z\"/>\n",
              "    </g>\n",
              "</svg>\n",
              "  </button>\n",
              "\n",
              "<style>\n",
              "  .colab-df-quickchart {\n",
              "      --bg-color: #E8F0FE;\n",
              "      --fill-color: #1967D2;\n",
              "      --hover-bg-color: #E2EBFA;\n",
              "      --hover-fill-color: #174EA6;\n",
              "      --disabled-fill-color: #AAA;\n",
              "      --disabled-bg-color: #DDD;\n",
              "  }\n",
              "\n",
              "  [theme=dark] .colab-df-quickchart {\n",
              "      --bg-color: #3B4455;\n",
              "      --fill-color: #D2E3FC;\n",
              "      --hover-bg-color: #434B5C;\n",
              "      --hover-fill-color: #FFFFFF;\n",
              "      --disabled-bg-color: #3B4455;\n",
              "      --disabled-fill-color: #666;\n",
              "  }\n",
              "\n",
              "  .colab-df-quickchart {\n",
              "    background-color: var(--bg-color);\n",
              "    border: none;\n",
              "    border-radius: 50%;\n",
              "    cursor: pointer;\n",
              "    display: none;\n",
              "    fill: var(--fill-color);\n",
              "    height: 32px;\n",
              "    padding: 0;\n",
              "    width: 32px;\n",
              "  }\n",
              "\n",
              "  .colab-df-quickchart:hover {\n",
              "    background-color: var(--hover-bg-color);\n",
              "    box-shadow: 0 1px 2px rgba(60, 64, 67, 0.3), 0 1px 3px 1px rgba(60, 64, 67, 0.15);\n",
              "    fill: var(--button-hover-fill-color);\n",
              "  }\n",
              "\n",
              "  .colab-df-quickchart-complete:disabled,\n",
              "  .colab-df-quickchart-complete:disabled:hover {\n",
              "    background-color: var(--disabled-bg-color);\n",
              "    fill: var(--disabled-fill-color);\n",
              "    box-shadow: none;\n",
              "  }\n",
              "\n",
              "  .colab-df-spinner {\n",
              "    border: 2px solid var(--fill-color);\n",
              "    border-color: transparent;\n",
              "    border-bottom-color: var(--fill-color);\n",
              "    animation:\n",
              "      spin 1s steps(1) infinite;\n",
              "  }\n",
              "\n",
              "  @keyframes spin {\n",
              "    0% {\n",
              "      border-color: transparent;\n",
              "      border-bottom-color: var(--fill-color);\n",
              "      border-left-color: var(--fill-color);\n",
              "    }\n",
              "    20% {\n",
              "      border-color: transparent;\n",
              "      border-left-color: var(--fill-color);\n",
              "      border-top-color: var(--fill-color);\n",
              "    }\n",
              "    30% {\n",
              "      border-color: transparent;\n",
              "      border-left-color: var(--fill-color);\n",
              "      border-top-color: var(--fill-color);\n",
              "      border-right-color: var(--fill-color);\n",
              "    }\n",
              "    40% {\n",
              "      border-color: transparent;\n",
              "      border-right-color: var(--fill-color);\n",
              "      border-top-color: var(--fill-color);\n",
              "    }\n",
              "    60% {\n",
              "      border-color: transparent;\n",
              "      border-right-color: var(--fill-color);\n",
              "    }\n",
              "    80% {\n",
              "      border-color: transparent;\n",
              "      border-right-color: var(--fill-color);\n",
              "      border-bottom-color: var(--fill-color);\n",
              "    }\n",
              "    90% {\n",
              "      border-color: transparent;\n",
              "      border-bottom-color: var(--fill-color);\n",
              "    }\n",
              "  }\n",
              "</style>\n",
              "\n",
              "  <script>\n",
              "    async function quickchart(key) {\n",
              "      const quickchartButtonEl =\n",
              "        document.querySelector('#' + key + ' button');\n",
              "      quickchartButtonEl.disabled = true;  // To prevent multiple clicks.\n",
              "      quickchartButtonEl.classList.add('colab-df-spinner');\n",
              "      try {\n",
              "        const charts = await google.colab.kernel.invokeFunction(\n",
              "            'suggestCharts', [key], {});\n",
              "      } catch (error) {\n",
              "        console.error('Error during call to suggestCharts:', error);\n",
              "      }\n",
              "      quickchartButtonEl.classList.remove('colab-df-spinner');\n",
              "      quickchartButtonEl.classList.add('colab-df-quickchart-complete');\n",
              "    }\n",
              "    (() => {\n",
              "      let quickchartButtonEl =\n",
              "        document.querySelector('#df-b1572d0a-f12b-44de-bec2-cde083d75b4b button');\n",
              "      quickchartButtonEl.style.display =\n",
              "        google.colab.kernel.accessAllowed ? 'block' : 'none';\n",
              "    })();\n",
              "  </script>\n",
              "</div>\n",
              "\n",
              "    </div>\n",
              "  </div>\n"
            ]
          },
          "metadata": {},
          "execution_count": 5
        }
      ]
    },
    {
      "cell_type": "code",
      "source": [
        "uniqueTeamNames = df['team_1'].unique()\n",
        "uniqueTeamNames2 = df['team_2'].unique()\n",
        "\n",
        "print('Team 1\\n', uniqueTeamNames)\n",
        "print('\\nTeam 2\\n', uniqueTeamNames2)"
      ],
      "metadata": {
        "colab": {
          "base_uri": "https://localhost:8080/"
        },
        "id": "Nycwla23ThCz",
        "outputId": "c7b6f975-e779-448f-b788-7464c2555201"
      },
      "execution_count": 6,
      "outputs": [
        {
          "output_type": "stream",
          "name": "stdout",
          "text": [
            "Team 1\n",
            " ['Barisal Burners' 'Khulna Royal Bengals' 'Chittagong Kings'\n",
            " 'Sylhet Royals' 'Dhaka Gladiators' 'Duronto Rajshahi'\n",
            " 'Chittagong Vikings' 'Barisal Bulls' 'Khulna Titans' 'Comilla Victorians'\n",
            " 'Dhaka Dynamites' 'Rangpur Riders' 'Rajshahi Kings' 'Sylhet Sixers'\n",
            " 'Sylhet Super Stars' 'Sylhet Thunder' 'Cumilla Warriors' 'Dhaka Platoon'\n",
            " 'Rangpur Rangers' 'Chattogram Challengers' 'Rajshahi Royals'\n",
            " 'Khulna Tigers' 'Minister Group Dhaka' 'Sylhet Sunrisers'\n",
            " 'Fortune Barishal']\n",
            "\n",
            "Team 2\n",
            " ['Dhaka Gladiators' 'Khulna Royal Bengals' 'Duronto Rajshahi'\n",
            " 'Chittagong Kings' 'Barisal Burners' 'Sylhet Royals' 'Comilla Victorians'\n",
            " 'Dhaka Dynamites' 'Rajshahi Kings' 'Rangpur Riders' 'Barisal Bulls'\n",
            " 'Chittagong Vikings' 'Khulna Titans' 'Sylhet Sixers' 'Sylhet Super Stars'\n",
            " 'Chattogram Challengers' 'Rangpur Rangers' 'Rajshahi Royals'\n",
            " 'Cumilla Warriors' 'Khulna Tigers' 'Sylhet Thunder' 'Dhaka Platoon'\n",
            " 'Fortune Barishal' 'Minister Group Dhaka' 'Sylhet Sunrisers']\n"
          ]
        }
      ]
    },
    {
      "cell_type": "code",
      "source": [
        "for i in uniqueTeamNames2:\n",
        "  if i not in uniqueTeamNames:\n",
        "    uniqueTeamNames.append(i)\n",
        "\n",
        "print('All unique teams\\n', uniqueTeamNames)"
      ],
      "metadata": {
        "colab": {
          "base_uri": "https://localhost:8080/"
        },
        "id": "YrYfbLBdTxn5",
        "outputId": "37626dc4-bbee-4b58-8470-e0bd2745ba65"
      },
      "execution_count": 7,
      "outputs": [
        {
          "output_type": "stream",
          "name": "stdout",
          "text": [
            "All unique teams\n",
            " ['Barisal Burners' 'Khulna Royal Bengals' 'Chittagong Kings'\n",
            " 'Sylhet Royals' 'Dhaka Gladiators' 'Duronto Rajshahi'\n",
            " 'Chittagong Vikings' 'Barisal Bulls' 'Khulna Titans' 'Comilla Victorians'\n",
            " 'Dhaka Dynamites' 'Rangpur Riders' 'Rajshahi Kings' 'Sylhet Sixers'\n",
            " 'Sylhet Super Stars' 'Sylhet Thunder' 'Cumilla Warriors' 'Dhaka Platoon'\n",
            " 'Rangpur Rangers' 'Chattogram Challengers' 'Rajshahi Royals'\n",
            " 'Khulna Tigers' 'Minister Group Dhaka' 'Sylhet Sunrisers'\n",
            " 'Fortune Barishal']\n"
          ]
        }
      ]
    },
    {
      "cell_type": "code",
      "source": [
        "len(uniqueTeamNames)"
      ],
      "metadata": {
        "colab": {
          "base_uri": "https://localhost:8080/"
        },
        "id": "OgK0MUDDUQnb",
        "outputId": "b41cd82d-6c83-4021-f044-aa3b2e810444"
      },
      "execution_count": 8,
      "outputs": [
        {
          "output_type": "execute_result",
          "data": {
            "text/plain": [
              "25"
            ]
          },
          "metadata": {},
          "execution_count": 8
        }
      ]
    },
    {
      "cell_type": "markdown",
      "source": [
        "### Function to plot the bar graph"
      ],
      "metadata": {
        "id": "wSDH3l9HVX-M"
      }
    },
    {
      "cell_type": "code",
      "source": [
        "def plotGraph(dictionary, col):\n",
        "  # sort the dictionary in descending order by frequency\n",
        "  dictionary = dict(sorted(dictionary.items(),\n",
        "                           key=operator.itemgetter(1),\n",
        "                           reverse=True))\n",
        "\n",
        "  print(f'Dictionary of {col} in descending order by value: ', dictionary)\n",
        "\n",
        "  # extracting top 5 elements of the dictionary\n",
        "  top5Data = dict()\n",
        "  j = 0\n",
        "\n",
        "  for i in dictionary:\n",
        "    top5Data[i] = dictionary[i]\n",
        "    j += 1\n",
        "    if j == 5:\n",
        "      break\n",
        "\n",
        "  # segregate names and values of the top 5 elements\n",
        "  names = list(top5Data.keys())\n",
        "  values = list(top5Data.values())\n",
        "\n",
        "  print(f'Names of the top 5 {col} elements: ', names)\n",
        "  print(f'Values of the top 5 {col} elements: ', values)\n",
        "\n",
        "  # Now, plot the graph for the same\n",
        "  f = plt.figure()\n",
        "  f.set_figwidth(15)\n",
        "  f.set_figheight(10)\n",
        "\n",
        "  c = ['red', 'yellow', 'black', 'blue', 'orange']\n",
        "  plt.bar(range(len(top5Data)), values, tick_label=names, color=c)\n",
        "  plt.show()"
      ],
      "metadata": {
        "id": "fI35DNIqHnY8"
      },
      "execution_count": 9,
      "outputs": []
    },
    {
      "cell_type": "markdown",
      "source": [
        "### Function to analyze data of Bangladesh Premier League Analysis"
      ],
      "metadata": {
        "id": "AYOJPsuHWEYD"
      }
    },
    {
      "cell_type": "code",
      "source": [
        "def analyzeData(dataFrame, col):\n",
        "  dictionary = dict()\n",
        "\n",
        "  # enlist all the unique data and count their frequency\n",
        "  for i in dataFrame[col]:\n",
        "    if i not in dictionary:\n",
        "      dictionary[i] = 1\n",
        "    else:\n",
        "      dictionary[i] += 1\n",
        "\n",
        "  # function call to plot the graph\n",
        "  plotGraph(dictionary, col)"
      ],
      "metadata": {
        "id": "urWrk9_x6-hD"
      },
      "execution_count": 10,
      "outputs": []
    },
    {
      "cell_type": "markdown",
      "source": [
        "### Let's Start to Analyze Datasets w.r.t. Player Name."
      ],
      "metadata": {
        "id": "-J5uaCk8eMVQ"
      }
    },
    {
      "cell_type": "code",
      "source": [
        "# Let's analyse the data for Man of the Match\n",
        "analyzeData(df, 'player_of_match')"
      ],
      "metadata": {
        "colab": {
          "base_uri": "https://localhost:8080/",
          "height": 902
        },
        "id": "0artZCHv7EHf",
        "outputId": "7728a101-98ca-48d2-834e-77dbb15f8f89"
      },
      "execution_count": 11,
      "outputs": [
        {
          "output_type": "stream",
          "name": "stdout",
          "text": [
            "Dictionary of player_of_match in descending order by value:  {'Shakib Al Hasan': 11, 'Mahmudullah': 9, 'Chris Gayle': 7, 'Mushfiqur Rahim': 7, 'Shahid Afridi': 7, 'Ravi Bopara': 7, 'Andre Russell': 6, 'Tamim Iqbal': 6, 'Evin Lewis': 6, 'Azhar Mahmood': 5, 'Dawid Malan': 5, 'Daren Sammy': 5, 'Mahedi Hasan': 5, 'Jahurul Islam': 5, 'Ahmed Shehzad': 4, 'Dwayne Bravo': 4, 'Marlon Samuels': 4, 'Mohammad Nabi': 4, 'Shoaib Malik': 4, 'Robbie Frylinck': 4, 'Rilee Rossouw': 4, 'Imrul Kayes': 4, 'Mehedi Hasan Rana': 4, 'Brad Hodge': 4, 'Anamul Haque': 3, 'Mohammad Shahzad': 3, 'Thisara Perera': 3, 'Samit Patel': 3, 'Mosharraf Hossain': 3, 'Shafiul Islam': 3, 'Sohail Tanvir': 3, 'Mohammad Saifuddin': 3, 'Mehidy Hasan Miraz': 3, 'Mashrafe Mortaza': 3, 'Litton Das': 3, 'Mustafizur Rahman': 3, 'Upul Tharanga': 3, 'Al-Amin Hossain': 3, 'Andre Fletcher': 3, 'Lewis Gregory': 3, 'Nasir Hossain': 3, 'Paul Stirling': 3, 'Imran Nazir': 2, 'Nasir Jamshed': 2, 'Mehedi Maruf': 2, 'Sabbir Rahman': 2, 'Mohammad Mithun': 2, 'Rayad Emrit': 2, 'Afif Hossain': 2, 'Rashid Khan': 2, 'Hazratullah Zazai': 2, 'Nicholas Pooran': 2, 'Rony Talukdar': 2, 'Zakir Hasan': 2, 'Arafat Sunny': 2, 'Laurie Evans': 2, 'Farhad Reza': 2, 'Cameron Delport': 2, 'Sunil Narine': 2, 'Kevon Cooper': 2, 'Kumar Sangakkara': 2, 'Ashar Zaidi': 2, 'Junaid Siddique': 2, 'Alok Kapali': 2, 'Taskin Ahmed': 2, 'Mominul Haque': 2, 'Ariful Haque': 2, 'Nazmul Islam': 2, 'Nahidul Islam': 2, 'Sean Ervine': 2, 'Mohammad Ashraful': 2, 'Shamsur Rahman': 2, 'Shahriar Nafees': 2, 'Brendan Taylor': 2, 'Ryan ten Doeschate': 2, 'Dwayne Smith': 1, 'Kieron Pollard': 1, 'Mosaddek Hossain': 1, 'Mohammad Shahid': 1, 'Nabil Samad': 1, 'Shuvagata Hom': 1, 'Isuru Udana': 1, 'Al Islam': 1, 'Taijul Islam': 1, 'David Wiese': 1, 'Alex Hales': 1, 'Mohammad Nawaz': 1, 'AB de Villiers': 1, 'Ebadot Hossain': 1, 'Rubel Hossain': 1, 'Abul Hasan': 1, 'Misbah-ul-Haq': 1, 'Nuwan Kulasekara': 1, 'Shadman Islam': 1, 'Soumya Sarkar': 1, 'Tillakaratne Dilshan': 1, 'Dasun Shanaka': 1, 'Mohammad Naim': 1, 'Chadwick Walton': 1, 'Shohidul Islam': 1, 'Wahab Riaz': 1, 'Mujeeb Ur Rahman': 1, 'Hasan Mahmud': 1, 'Shane Watson': 1, 'Shadab Khan': 1, 'Najmul Hossain Shanto': 1, 'Mohammad Amir': 1, 'Danushka Gunathilaka': 1, 'Abu Jayed': 1, 'Hasan Ali': 1, 'Sikandar Raza': 1, 'Luis Reece': 1, 'Johnson Charles': 1, 'Benny Howell': 1, 'Nasum Ahmed': 1, 'Mrittunjoy Chowdhury': 1, 'Faf du Plessis': 1, 'Owais Shah': 1, 'Elton Chigumbura': 1, 'Hamilton Masakadza': 1, 'Daniel Harris': 1, 'Darren Stevens': 1, 'Charles Coventry': 1, 'Fidel Edwards': 1, 'Nazmul Hossain Milon': 1, 'Alfonso Thomas': 1, 'Naeem Islam': 1, 'Danza Hyatt': 1, 'Hamid Hassan': 1, \"Kevin O'Brien\": 1, 'Jason Roy': 1, 'Saqlain Sajib': 1, 'Shivnarine Chanderpaul': 1, 'Peter Trego': 1, 'Mohammad Sami': 1}\n",
            "Names of the top 5 player_of_match elements:  ['Shakib Al Hasan', 'Mahmudullah', 'Chris Gayle', 'Mushfiqur Rahim', 'Shahid Afridi']\n",
            "Values of the top 5 player_of_match elements:  [11, 9, 7, 7, 7]\n"
          ]
        },
        {
          "output_type": "display_data",
          "data": {
            "text/plain": [
              "<Figure size 1500x1000 with 1 Axes>"
            ],
            "image/png": "[encoded data removed]"
          },
          "metadata": {}
        }
      ]
    },
    {
      "cell_type": "code",
      "source": [
        "# Let's analyse data for umpire1\n",
        "analyzeData(df, 'umpire_1')"
      ],
      "metadata": {
        "colab": {
          "base_uri": "https://localhost:8080/",
          "height": 902
        },
        "id": "tI2sKDV47_y2",
        "outputId": "bd1121f1-72cd-4ea4-d5a9-38719d3e6b99"
      },
      "execution_count": 12,
      "outputs": [
        {
          "output_type": "stream",
          "name": "stdout",
          "text": [
            "Dictionary of umpire_1 in descending order by value:  {'Mahfuzur Rahman': 41, 'Masudur Rahman': 31, 'Enamul Haque': 29, 'Anisur Rahman': 26, 'Gazi Sohel': 22, 'Nadir Shah': 21, 'Alex Wharf': 19, 'David Millns': 18, 'Khalid Mahmood': 16, 'David Orchard': 15, 'Jeremy Lloyds': 14, 'Morshed Ali Khan': 10, 'Ranmore Martinesz': 9, 'Prageeth Rambukwella': 8, 'Ahsan Raza': 7, 'Sharfuddoula': 6, 'Riazuddin': 3, 'Khalid Mahmud': 2, 'D Milns': 2, 'Akteruzzaman': 2, 'Nahidul Islam': 1, 'Abdul Mazid': 1, 'Habibur Rahman': 1, 'Shozab Raza': 1, 'Minhajul Abedin Afridi': 1, 'Dawid Malan': 1, 'Moniruzzaman': 1, 'Nayeem Hasan': 1, 'Bishawnath Halder': 1, 'Amit Kumar': 1}\n",
            "Names of the top 5 umpire_1 elements:  ['Mahfuzur Rahman', 'Masudur Rahman', 'Enamul Haque', 'Anisur Rahman', 'Gazi Sohel']\n",
            "Values of the top 5 umpire_1 elements:  [41, 31, 29, 26, 22]\n"
          ]
        },
        {
          "output_type": "display_data",
          "data": {
            "text/plain": [
              "<Figure size 1500x1000 with 1 Axes>"
            ],
            "image/png": "[encoded data removed]"
          },
          "metadata": {}
        }
      ]
    },
    {
      "cell_type": "code",
      "source": [
        "# Let's analyse data for umpire2\n",
        "analyzeData(df, 'umpire_2')"
      ],
      "metadata": {
        "colab": {
          "base_uri": "https://localhost:8080/",
          "height": 902
        },
        "id": "sUTAmysP8vNi",
        "outputId": "9acf6ec6-a2bc-4b00-ddda-0fe7bb43ca5e"
      },
      "execution_count": 13,
      "outputs": [
        {
          "output_type": "stream",
          "name": "stdout",
          "text": [
            "Dictionary of umpire_2 in descending order by value:  {'Ranmore Martinesz': 50, 'Sharfuddoula': 39, 'Tanvir Ahmed': 36, 'Masudur Rahman': 32, 'Jeremy Lloyds': 19, 'Prageeth Rambukwella': 18, 'Riazuddin': 18, 'Nadir Shah': 16, 'Mahfuzur Rahman': 16, 'Richard Illingworth': 14, 'Gazi Sohel': 12, 'Morshed Ali Khan': 12, 'Enamul Haque': 6, 'Shozab Raza': 6, 'Rashid Riaz': 3, 'Khalid Mahmood': 2, 'David Orchard': 1, 'Najmul Hossain Shanto': 1, 'Mehidy Hasan Miraz': 1, 'Shohidul Islam': 1, 'Sanjit Saha': 1, 'Afif Hossain': 1, 'Shafiuddin Ahmed': 1, 'Qazi Onik': 1, 'Moniruzzaman': 1, 'Raveendra Wimalasiri': 1, 'Jubair Ahmed': 1, 'Mehedi Maruf': 1}\n",
            "Names of the top 5 umpire_2 elements:  ['Ranmore Martinesz', 'Sharfuddoula', 'Tanvir Ahmed', 'Masudur Rahman', 'Jeremy Lloyds']\n",
            "Values of the top 5 umpire_2 elements:  [50, 39, 36, 32, 19]\n"
          ]
        },
        {
          "output_type": "display_data",
          "data": {
            "text/plain": [
              "<Figure size 1500x1000 with 1 Axes>"
            ],
            "image/png": "[encoded data removed]"
          },
          "metadata": {}
        }
      ]
    },
    {
      "cell_type": "code",
      "source": [
        "# Let's analyse data for toss-winner\n",
        "analyzeData(df, 'toss_winner')"
      ],
      "metadata": {
        "colab": {
          "base_uri": "https://localhost:8080/",
          "height": 902
        },
        "id": "CPDD27Uh9KEU",
        "outputId": "77c838be-9f86-410b-9962-197666d52996"
      },
      "execution_count": 14,
      "outputs": [
        {
          "output_type": "stream",
          "name": "stdout",
          "text": [
            "Dictionary of toss_winner in descending order by value:  {'Rangpur Riders': 34, 'Comilla Victorians': 27, 'Dhaka Dynamites': 25, 'Rajshahi Kings': 22, 'Khulna Titans': 21, 'Chittagong Vikings': 21, 'Dhaka Gladiators': 15, 'Barisal Burners': 13, 'Khulna Tigers': 13, 'Khulna Royal Bengals': 12, 'Sylhet Royals': 12, 'Duronto Rajshahi': 11, 'Barisal Bulls': 11, 'Sylhet Sixers': 11, 'Chittagong Kings': 10, 'Rajshahi Royals': 9, 'Chattogram Challengers': 8, 'Cumilla Warriors': 8, 'Rangpur Rangers': 6, 'Sylhet Super Stars': 5, 'Sylhet Thunder': 5, 'Fortune Barishal': 4, 'Dhaka Platoon': 3, 'Minister Group Dhaka': 3, 'Sylhet Sunrisers': 2}\n",
            "Names of the top 5 toss_winner elements:  ['Rangpur Riders', 'Comilla Victorians', 'Dhaka Dynamites', 'Rajshahi Kings', 'Khulna Titans']\n",
            "Values of the top 5 toss_winner elements:  [34, 27, 25, 22, 21]\n"
          ]
        },
        {
          "output_type": "display_data",
          "data": {
            "text/plain": [
              "<Figure size 1500x1000 with 1 Axes>"
            ],
            "image/png": "[encoded data removed]"
          },
          "metadata": {}
        }
      ]
    },
    {
      "cell_type": "code",
      "source": [
        "# Let's analyse data for Toss Decision\n",
        "analyzeData(df, 'toss_decision')"
      ],
      "metadata": {
        "colab": {
          "base_uri": "https://localhost:8080/",
          "height": 882
        },
        "id": "hYHbnQ4p9cOw",
        "outputId": "c5a5a083-4e2d-4d23-fa12-8c58b00e12fe"
      },
      "execution_count": 15,
      "outputs": [
        {
          "output_type": "stream",
          "name": "stdout",
          "text": [
            "Dictionary of toss_decision in descending order by value:  {'field first': 208, 'bat first': 103}\n",
            "Names of the top 5 toss_decision elements:  ['field first', 'bat first']\n",
            "Values of the top 5 toss_decision elements:  [208, 103]\n"
          ]
        },
        {
          "output_type": "display_data",
          "data": {
            "text/plain": [
              "<Figure size 1500x1000 with 1 Axes>"
            ],
            "image/png": "[encoded data removed]"
          },
          "metadata": {}
        }
      ]
    },
    {
      "cell_type": "markdown",
      "source": [
        "## Analyzing dataset of Bats Man"
      ],
      "metadata": {
        "id": "1RT7XILFVOuk"
      }
    },
    {
      "cell_type": "code",
      "source": [
        "df2 = pd.read_csv('/content/batsman.csv')\n",
        "print(df2.shape)\n",
        "df2.head()"
      ],
      "metadata": {
        "colab": {
          "base_uri": "https://localhost:8080/",
          "height": 223
        },
        "id": "U1Wb-R_3Y6ft",
        "outputId": "696163da-3ff2-4723-aefe-ccda0898f3f4"
      },
      "execution_count": 16,
      "outputs": [
        {
          "output_type": "stream",
          "name": "stdout",
          "text": [
            "(5048, 12)\n"
          ]
        },
        {
          "output_type": "execute_result",
          "data": {
            "text/plain": [
              "   id   season match_no         date             player_name  \\\n",
              "0  31  2011/12      2nd  Feb 10 2012             Tamim Iqbal   \n",
              "1  31  2011/12      2nd  Feb 10 2012           Jahurul Islam   \n",
              "2   0  2011/12    Final  Feb 29 2012           Ahmed Shehzad   \n",
              "3  30  2011/12      3rd  Feb 11 2012  Shivnarine Chanderpaul   \n",
              "4  29  2011/12      4th  Feb 11 2012           Ahmed Shehzad   \n",
              "\n",
              "                       comment   R   B   M fours sixs      SR  \n",
              "0    c Samuels b Mohammad Sami   3   7  10     0    0   42.85  \n",
              "1  c †Mushfiqur Rahim b Ervine  11  13  21     0    1   84.61  \n",
              "2                          NaN  28  20  21     3    1  140.00  \n",
              "3              b Azhar Mahmood  19  15  24     2    1  126.66  \n",
              "4  c Syed Rasel b Abdul Razzaq  67  40  62     4    6  167.50  "
            ],
            "text/html": [
              "\n",
              "  <div id=\"df-4b8c2795-c7d0-426d-a7b1-765c0a67865a\" class=\"colab-df-container\">\n",
              "    <div>\n",
              "<style scoped>\n",
              "    .dataframe tbody tr th:only-of-type {\n",
              "        vertical-align: middle;\n",
              "    }\n",
              "\n",
              "    .dataframe tbody tr th {\n",
              "        vertical-align: top;\n",
              "    }\n",
              "\n",
              "    .dataframe thead th {\n",
              "        text-align: right;\n",
              "    }\n",
              "</style>\n",
              "<table border=\"1\" class=\"dataframe\">\n",
              "  <thead>\n",
              "    <tr style=\"text-align: right;\">\n",
              "      <th></th>\n",
              "      <th>id</th>\n",
              "      <th>season</th>\n",
              "      <th>match_no</th>\n",
              "      <th>date</th>\n",
              "      <th>player_name</th>\n",
              "      <th>comment</th>\n",
              "      <th>R</th>\n",
              "      <th>B</th>\n",
              "      <th>M</th>\n",
              "      <th>fours</th>\n",
              "      <th>sixs</th>\n",
              "      <th>SR</th>\n",
              "    </tr>\n",
              "  </thead>\n",
              "  <tbody>\n",
              "    <tr>\n",
              "      <th>0</th>\n",
              "      <td>31</td>\n",
              "      <td>2011/12</td>\n",
              "      <td>2nd</td>\n",
              "      <td>Feb 10 2012</td>\n",
              "      <td>Tamim Iqbal</td>\n",
              "      <td>c Samuels b Mohammad Sami</td>\n",
              "      <td>3</td>\n",
              "      <td>7</td>\n",
              "      <td>10</td>\n",
              "      <td>0</td>\n",
              "      <td>0</td>\n",
              "      <td>42.85</td>\n",
              "    </tr>\n",
              "    <tr>\n",
              "      <th>1</th>\n",
              "      <td>31</td>\n",
              "      <td>2011/12</td>\n",
              "      <td>2nd</td>\n",
              "      <td>Feb 10 2012</td>\n",
              "      <td>Jahurul Islam</td>\n",
              "      <td>c †Mushfiqur Rahim b Ervine</td>\n",
              "      <td>11</td>\n",
              "      <td>13</td>\n",
              "      <td>21</td>\n",
              "      <td>0</td>\n",
              "      <td>1</td>\n",
              "      <td>84.61</td>\n",
              "    </tr>\n",
              "    <tr>\n",
              "      <th>2</th>\n",
              "      <td>0</td>\n",
              "      <td>2011/12</td>\n",
              "      <td>Final</td>\n",
              "      <td>Feb 29 2012</td>\n",
              "      <td>Ahmed Shehzad</td>\n",
              "      <td>NaN</td>\n",
              "      <td>28</td>\n",
              "      <td>20</td>\n",
              "      <td>21</td>\n",
              "      <td>3</td>\n",
              "      <td>1</td>\n",
              "      <td>140.00</td>\n",
              "    </tr>\n",
              "    <tr>\n",
              "      <th>3</th>\n",
              "      <td>30</td>\n",
              "      <td>2011/12</td>\n",
              "      <td>3rd</td>\n",
              "      <td>Feb 11 2012</td>\n",
              "      <td>Shivnarine Chanderpaul</td>\n",
              "      <td>b Azhar Mahmood</td>\n",
              "      <td>19</td>\n",
              "      <td>15</td>\n",
              "      <td>24</td>\n",
              "      <td>2</td>\n",
              "      <td>1</td>\n",
              "      <td>126.66</td>\n",
              "    </tr>\n",
              "    <tr>\n",
              "      <th>4</th>\n",
              "      <td>29</td>\n",
              "      <td>2011/12</td>\n",
              "      <td>4th</td>\n",
              "      <td>Feb 11 2012</td>\n",
              "      <td>Ahmed Shehzad</td>\n",
              "      <td>c Syed Rasel b Abdul Razzaq</td>\n",
              "      <td>67</td>\n",
              "      <td>40</td>\n",
              "      <td>62</td>\n",
              "      <td>4</td>\n",
              "      <td>6</td>\n",
              "      <td>167.50</td>\n",
              "    </tr>\n",
              "  </tbody>\n",
              "</table>\n",
              "</div>\n",
              "    <div class=\"colab-df-buttons\">\n",
              "\n",
              "  <div class=\"colab-df-container\">\n",
              "    <button class=\"colab-df-convert\" onclick=\"convertToInteractive('df-4b8c2795-c7d0-426d-a7b1-765c0a67865a')\"\n",
              "            title=\"Convert this dataframe to an interactive table.\"\n",
              "            style=\"display:none;\">\n",
              "\n",
              "  <svg xmlns=\"http://www.w3.org/2000/svg\" height=\"24px\" viewBox=\"0 -960 960 960\">\n",
              "    <path d=\"M120-120v-720h720v720H120Zm60-500h600v-160H180v160Zm220 220h160v-160H400v160Zm0 220h160v-160H400v160ZM180-400h160v-160H180v160Zm440 0h160v-160H620v160ZM180-180h160v-160H180v160Zm440 0h160v-160H620v160Z\"/>\n",
              "  </svg>\n",
              "    </button>\n",
              "\n",
              "  <style>\n",
              "    .colab-df-container {\n",
              "      display:flex;\n",
              "      gap: 12px;\n",
              "    }\n",
              "\n",
              "    .colab-df-convert {\n",
              "      background-color: #E8F0FE;\n",
              "      border: none;\n",
              "      border-radius: 50%;\n",
              "      cursor: pointer;\n",
              "      display: none;\n",
              "      fill: #1967D2;\n",
              "      height: 32px;\n",
              "      padding: 0 0 0 0;\n",
              "      width: 32px;\n",
              "    }\n",
              "\n",
              "    .colab-df-convert:hover {\n",
              "      background-color: #E2EBFA;\n",
              "      box-shadow: 0px 1px 2px rgba(60, 64, 67, 0.3), 0px 1px 3px 1px rgba(60, 64, 67, 0.15);\n",
              "      fill: #174EA6;\n",
              "    }\n",
              "\n",
              "    .colab-df-buttons div {\n",
              "      margin-bottom: 4px;\n",
              "    }\n",
              "\n",
              "    [theme=dark] .colab-df-convert {\n",
              "      background-color: #3B4455;\n",
              "      fill: #D2E3FC;\n",
              "    }\n",
              "\n",
              "    [theme=dark] .colab-df-convert:hover {\n",
              "      background-color: #434B5C;\n",
              "      box-shadow: 0px 1px 3px 1px rgba(0, 0, 0, 0.15);\n",
              "      filter: drop-shadow(0px 1px 2px rgba(0, 0, 0, 0.3));\n",
              "      fill: #FFFFFF;\n",
              "    }\n",
              "  </style>\n",
              "\n",
              "    <script>\n",
              "      const buttonEl =\n",
              "        document.querySelector('#df-4b8c2795-c7d0-426d-a7b1-765c0a67865a button.colab-df-convert');\n",
              "      buttonEl.style.display =\n",
              "        google.colab.kernel.accessAllowed ? 'block' : 'none';\n",
              "\n",
              "      async function convertToInteractive(key) {\n",
              "        const element = document.querySelector('#df-4b8c2795-c7d0-426d-a7b1-765c0a67865a');\n",
              "        const dataTable =\n",
              "          await google.colab.kernel.invokeFunction('convertToInteractive',\n",
              "                                                    [key], {});\n",
              "        if (!dataTable) return;\n",
              "\n",
              "        const docLinkHtml = 'Like what you see? Visit the ' +\n",
              "          '<a target=\"_blank\" href=https://colab.research.google.com/notebooks/data_table.ipynb>data table notebook</a>'\n",
              "          + ' to learn more about interactive tables.';\n",
              "        element.innerHTML = '';\n",
              "        dataTable['output_type'] = 'display_data';\n",
              "        await google.colab.output.renderOutput(dataTable, element);\n",
              "        const docLink = document.createElement('div');\n",
              "        docLink.innerHTML = docLinkHtml;\n",
              "        element.appendChild(docLink);\n",
              "      }\n",
              "    </script>\n",
              "  </div>\n",
              "\n",
              "\n",
              "<div id=\"df-12649149-8e0b-4d51-96ae-2490eaf6712a\">\n",
              "  <button class=\"colab-df-quickchart\" onclick=\"quickchart('df-12649149-8e0b-4d51-96ae-2490eaf6712a')\"\n",
              "            title=\"Suggest charts\"\n",
              "            style=\"display:none;\">\n",
              "\n",
              "<svg xmlns=\"http://www.w3.org/2000/svg\" height=\"24px\"viewBox=\"0 0 24 24\"\n",
              "     width=\"24px\">\n",
              "    <g>\n",
              "        <path d=\"M19 3H5c-1.1 0-2 .9-2 2v14c0 1.1.9 2 2 2h14c1.1 0 2-.9 2-2V5c0-1.1-.9-2-2-2zM9 17H7v-7h2v7zm4 0h-2V7h2v10zm4 0h-2v-4h2v4z\"/>\n",
              "    </g>\n",
              "</svg>\n",
              "  </button>\n",
              "\n",
              "<style>\n",
              "  .colab-df-quickchart {\n",
              "      --bg-color: #E8F0FE;\n",
              "      --fill-color: #1967D2;\n",
              "      --hover-bg-color: #E2EBFA;\n",
              "      --hover-fill-color: #174EA6;\n",
              "      --disabled-fill-color: #AAA;\n",
              "      --disabled-bg-color: #DDD;\n",
              "  }\n",
              "\n",
              "  [theme=dark] .colab-df-quickchart {\n",
              "      --bg-color: #3B4455;\n",
              "      --fill-color: #D2E3FC;\n",
              "      --hover-bg-color: #434B5C;\n",
              "      --hover-fill-color: #FFFFFF;\n",
              "      --disabled-bg-color: #3B4455;\n",
              "      --disabled-fill-color: #666;\n",
              "  }\n",
              "\n",
              "  .colab-df-quickchart {\n",
              "    background-color: var(--bg-color);\n",
              "    border: none;\n",
              "    border-radius: 50%;\n",
              "    cursor: pointer;\n",
              "    display: none;\n",
              "    fill: var(--fill-color);\n",
              "    height: 32px;\n",
              "    padding: 0;\n",
              "    width: 32px;\n",
              "  }\n",
              "\n",
              "  .colab-df-quickchart:hover {\n",
              "    background-color: var(--hover-bg-color);\n",
              "    box-shadow: 0 1px 2px rgba(60, 64, 67, 0.3), 0 1px 3px 1px rgba(60, 64, 67, 0.15);\n",
              "    fill: var(--button-hover-fill-color);\n",
              "  }\n",
              "\n",
              "  .colab-df-quickchart-complete:disabled,\n",
              "  .colab-df-quickchart-complete:disabled:hover {\n",
              "    background-color: var(--disabled-bg-color);\n",
              "    fill: var(--disabled-fill-color);\n",
              "    box-shadow: none;\n",
              "  }\n",
              "\n",
              "  .colab-df-spinner {\n",
              "    border: 2px solid var(--fill-color);\n",
              "    border-color: transparent;\n",
              "    border-bottom-color: var(--fill-color);\n",
              "    animation:\n",
              "      spin 1s steps(1) infinite;\n",
              "  }\n",
              "\n",
              "  @keyframes spin {\n",
              "    0% {\n",
              "      border-color: transparent;\n",
              "      border-bottom-color: var(--fill-color);\n",
              "      border-left-color: var(--fill-color);\n",
              "    }\n",
              "    20% {\n",
              "      border-color: transparent;\n",
              "      border-left-color: var(--fill-color);\n",
              "      border-top-color: var(--fill-color);\n",
              "    }\n",
              "    30% {\n",
              "      border-color: transparent;\n",
              "      border-left-color: var(--fill-color);\n",
              "      border-top-color: var(--fill-color);\n",
              "      border-right-color: var(--fill-color);\n",
              "    }\n",
              "    40% {\n",
              "      border-color: transparent;\n",
              "      border-right-color: var(--fill-color);\n",
              "      border-top-color: var(--fill-color);\n",
              "    }\n",
              "    60% {\n",
              "      border-color: transparent;\n",
              "      border-right-color: var(--fill-color);\n",
              "    }\n",
              "    80% {\n",
              "      border-color: transparent;\n",
              "      border-right-color: var(--fill-color);\n",
              "      border-bottom-color: var(--fill-color);\n",
              "    }\n",
              "    90% {\n",
              "      border-color: transparent;\n",
              "      border-bottom-color: var(--fill-color);\n",
              "    }\n",
              "  }\n",
              "</style>\n",
              "\n",
              "  <script>\n",
              "    async function quickchart(key) {\n",
              "      const quickchartButtonEl =\n",
              "        document.querySelector('#' + key + ' button');\n",
              "      quickchartButtonEl.disabled = true;  // To prevent multiple clicks.\n",
              "      quickchartButtonEl.classList.add('colab-df-spinner');\n",
              "      try {\n",
              "        const charts = await google.colab.kernel.invokeFunction(\n",
              "            'suggestCharts', [key], {});\n",
              "      } catch (error) {\n",
              "        console.error('Error during call to suggestCharts:', error);\n",
              "      }\n",
              "      quickchartButtonEl.classList.remove('colab-df-spinner');\n",
              "      quickchartButtonEl.classList.add('colab-df-quickchart-complete');\n",
              "    }\n",
              "    (() => {\n",
              "      let quickchartButtonEl =\n",
              "        document.querySelector('#df-12649149-8e0b-4d51-96ae-2490eaf6712a button');\n",
              "      quickchartButtonEl.style.display =\n",
              "        google.colab.kernel.accessAllowed ? 'block' : 'none';\n",
              "    })();\n",
              "  </script>\n",
              "</div>\n",
              "\n",
              "    </div>\n",
              "  </div>\n"
            ]
          },
          "metadata": {},
          "execution_count": 16
        }
      ]
    },
    {
      "cell_type": "markdown",
      "source": [
        "### Function to analyze data of Bats Man"
      ],
      "metadata": {
        "id": "YCnTmJbAVLrm"
      }
    },
    {
      "cell_type": "code",
      "source": [
        "def analyzeBatsMan(dataFrame, col):\n",
        "  dictionary = dict()\n",
        "\n",
        "  # enlist all the unique data and count their frequency\n",
        "  for i in dataFrame.index:\n",
        "    if len(dataFrame[col][i]) > 0:\n",
        "      if dataFrame[col][i] != '-':\n",
        "        val = int(dataFrame[col][i])\n",
        "        if dataFrame['player_name'][i] not in dictionary:\n",
        "          dictionary[dataFrame['player_name'][i]] = val\n",
        "        else:\n",
        "          dictionary[dataFrame['player_name'][i]] += val\n",
        "\n",
        "  print('Length of the dictionary: ', len(dictionary))\n",
        "\n",
        "  # function call to plot the graph\n",
        "  plotGraph(dictionary, col)"
      ],
      "metadata": {
        "id": "ieLApJlj-Ro-"
      },
      "execution_count": 17,
      "outputs": []
    },
    {
      "cell_type": "markdown",
      "source": [
        "### Let's Start to Analyze Datasets w.r.t. Player Name."
      ],
      "metadata": {
        "id": "7TXmp74AeGL9"
      }
    },
    {
      "cell_type": "code",
      "source": [
        "# Let's analyze data for scores players\n",
        "analyzeBatsMan(df2, 'R')"
      ],
      "metadata": {
        "colab": {
          "base_uri": "https://localhost:8080/",
          "height": 919
        },
        "id": "3bXeX2VK953D",
        "outputId": "c5c9edfd-adfc-4533-afb6-0b32b8b1ca7d"
      },
      "execution_count": 18,
      "outputs": [
        {
          "output_type": "stream",
          "name": "stdout",
          "text": [
            "Length of the dictionary:  372\n",
            "Dictionary of R in descending order by value:  {'Tamim Iqbal': 2483, 'Mushfiqur Rahim': 2408, 'Mahmudullah': 2014, 'Imrul Kayes': 1909, 'Sabbir Rahman': 1710, 'Anamul Haque': 1676, 'Mohammad Mithun': 1627, 'Shakib Al Hasan': 1620, 'Chris Gayle': 1599, 'Mominul Haque': 1327, 'Rilee Rossouw': 1240, 'Litton Das': 1196, 'Nasir Hossain': 1085, 'Jahurul Islam': 1065, 'Ravi Bopara': 1055, 'Shoaib Malik': 1045, 'Marlon Samuels': 1039, 'Soumya Sarkar': 993, 'Shahriar Nafees': 976, 'Najmul Hossain Shanto': 967, 'Mosaddek Hossain': 957, 'Junaid Siddique': 955, 'Evin Lewis': 945, 'Andre Fletcher': 940, 'Ahmed Shehzad': 937, 'Afif Hossain': 928, 'Shamsur Rahman': 910, 'Mohammad Shahzad': 834, 'Kumar Sangakkara': 827, 'Dawid Malan': 815, 'Andre Russell': 812, 'Thisara Perera': 812, 'Nurul Hasan': 791, 'Ryan ten Doeschate': 780, 'Ariful Haque': 760, 'Brad Hodge': 756, 'Lendl Simmons': 755, 'Rony Talukdar': 733, 'Ziaur Rahman': 720, 'Mehidy Hasan Miraz': 708, 'Kieron Pollard': 707, 'Dwayne Smith': 698, 'Nicholas Pooran': 660, 'Yasir Ali': 658, 'Mohammad Ashraful': 641, 'Cameron Delport': 636, 'Brendan Taylor': 615, 'Naeem Islam': 607, 'Mehedi Maruf': 597, 'Azhar Mahmood': 574, 'Alok Kapali': 564, 'Mohammad Nabi': 560, 'Johnson Charles': 548, 'Shahid Afridi': 539, 'Daren Sammy': 528, 'Mashrafe Mortaza': 511, 'Sunil Narine': 479, 'Shuvagata Hom': 476, 'Jason Roy': 474, 'Mohammad Naim': 463, 'Nazmul Hossain Milon': 447, 'Riki Wessels': 445, 'Nasir Jamshed': 444, 'Dilshan Munaweera': 437, 'Upul Tharanga': 433, 'Shivnarine Chanderpaul': 424, 'Paul Stirling': 419, 'Tillakaratne Dilshan': 414, 'Laurie Evans': 413, 'Darren Stevens': 394, 'Imran Nazir': 390, 'Farhad Reza': 390, 'Sikandar Raza': 388, 'Samit Patel': 388, 'Chadwick Walton': 382, 'Mahedi Hasan': 370, 'Kamran Akmal': 368, 'Phil Mustard': 364, 'Dwayne Bravo': 348, 'James Franklin': 343, 'Zakir Hasan': 327, 'Benny Howell': 324, 'Luke Ronchi': 321, 'Sean Ervine': 319, 'Peter Trego': 311, 'Carlos Brathwaite': 310, 'Joe Denly': 310, 'Alex Hales': 304, 'Seekkuge Prasanna': 297, 'Sohail Tanvir': 284, 'Brendon McCullum': 281, 'Fazle Mahmud': 280, 'Will Jacks': 280, 'Elton Chigumbura': 272, 'Muktar Ali': 268, 'Lewis Gregory': 262, 'Najibullah Zadran': 256, 'Al-Amin': 252, 'Robbie Frylinck': 247, 'AB de Villiers': 247, 'Stiaan van Zyl': 246, 'David Wiese': 244, 'Ashar Zaidi': 244, 'Shahzaib Hasan': 240, 'Jeevan Mendis': 236, 'Josh Cobb': 233, 'Mohammad Nawaz': 225, 'Jos Buttler': 225, 'Nahidul Islam': 223, 'David Warner': 223, 'Khalid Latif': 221, 'Avishka Fernando': 221, 'Hazratullah Zazai': 221, 'Sohag Gazi': 221, 'Nadif Chowdhury': 219, 'Luke Wright': 213, 'Charles Coventry': 213, 'Owais Shah': 205, 'Kevon Cooper': 201, 'Cameron Borgas': 200, 'Umar Akmal': 195, 'Dasun Shanaka': 193, 'Misbah-ul-Haq': 191, 'Irfan Sukkur': 190, 'Bhanuka Rajapaksa': 188, 'Taijul Islam': 186, 'Sherfane Rutherford': 180, 'Liam Dawson': 173, 'Travis Birt': 171, 'Abdul Razzaq': 167, 'Abdul Mazid': 166, 'Herschelle Gibbs': 161, 'Abul Hasan': 159, 'Simon Katich': 157, 'Mizanur Rahman': 155, 'Michael Klinger': 154, 'Shadman Islam': 151, 'Luis Reece': 150, 'Jaker Ali': 147, 'Kabir Ali': 145, \"Niall O'Brien\": 145, 'Hasanuzzaman': 144, 'Danushka Gunathilaka': 141, 'Lou Vincent': 140, 'Mohammad Hafeez': 136, 'Daniel Harris': 136, 'Shykat Ali': 134, \"Kevin O'Brien\": 131, 'Abu Hider': 130, 'Arafat Sunny': 130, 'Mohammad Sami': 129, 'Mahmudul Hasan': 129, 'Danza Hyatt': 129, 'Nazimuddin': 128, 'Asif Ali': 124, 'Shafiul Islam': 124, 'Christiaan Jonker': 123, 'Babar Azam': 117, 'Rayad Emrit': 111, 'Shadab Khan': 111, 'Scott Styris': 107, 'Mahidul Islam Ankon': 107, 'Jehan Mubarak': 104, 'Faf du Plessis': 99, 'Rahmanullah Gurbaz': 98, 'Isuru Udana': 97, 'Malcolm Waller': 96, 'Marshall Ayub': 96, 'Asif Ahmed': 95, 'Mahmudul Hasan Joy': 95, 'Shane Watson': 93, 'Colin Ingram': 93, 'Towhid Hridoy': 93, 'Mohammad Enamul': 92, 'Ross Whiteley': 91, 'Hamilton Masakadza': 90, 'Mohammad Saifuddin': 89, 'Tom Abell': 88, 'Wahab Riaz': 88, 'Jofra Archer': 87, 'Taibur Rahman': 87, 'Sohrawordi Shuvo': 82, 'Sunzamul Islam': 81, 'Elias Sunny': 81, 'Shamim Hossain': 81, 'Nayeem Hasan': 80, 'Abdur Razzak': 70, 'Kamrul Islam': 65, 'Rameez Raja': 65, 'Karim Janat': 64, 'Dhiman Ghosh': 63, 'Chamara Kapugedera': 61, 'Tim Bresnan': 61, 'Alauddin Babu': 59, 'Mustafizur Rahman': 59, 'Jacob Oram': 59, 'Krishmar Santokie': 58, 'Mosharraf Hossain': 58, 'Mehrab Hossain jnr': 58, 'Hasan Ali': 57, 'Taskin Ahmed': 56, 'Mohammad Amir': 56, 'Sanath Jayasuriya': 54, 'Nazmul Islam': 54, 'Rubel Hossain': 54, 'Yasir Shah': 51, 'Mohammad Sharif': 51, 'Farhad Hossain': 50, 'Tom Maynard': 50, 'Farveez Maharoof': 49, 'Kennar Lewis': 46, 'Moeen Ali': 46, 'Mohammad Rizwan': 42, 'Mahela Jayawardene': 42, 'Monir Hossain': 41, 'David Miller': 41, 'Rubel Mia': 39, 'Shoriful Islam': 38, 'Darwish Rasooli': 38, 'Rumman Raees': 38, 'Tanbir Hayder': 37, 'Alfonso Thomas': 36, 'Mujeeb Ur Rahman': 35, 'Robiul Islam Robi': 34, 'Liam Plunkett': 34, 'Abu Jayed': 34, 'Kesrick Williams': 33, 'Anwar Ali': 33, 'Fidel Edwards': 32, 'Rashid Khan': 32, 'Saqlain Sajib': 31, 'Asela Gunaratne': 31, 'Qais Ahmad': 31, 'Brad Hogg': 30, 'Yasir Arafat': 28, 'Raqibul Hasan': 27, 'Delwar Hossain': 26, 'Naeem Islam jnr': 25, 'Dimitri Mascarenhas': 25, 'Dolar Mahmud': 24, 'Fardeen Hasan': 23, 'Mrittunjoy Chowdhury': 23, 'Sachithra Senanayake': 23, 'Matt Coles': 23, 'Bilawal Bhatti': 22, 'Shohidul Islam': 21, 'Saif Hassan': 20, 'Mohammad Shahid': 20, 'Abdullah Al Mamun': 20, 'Lasith Malinga': 20, 'Faisal Hossain': 19, 'Ryan Burl': 19, 'Jake Lintott': 19, 'Enamul Haque jnr': 19, 'Sulieman Benn': 19, 'Mahbubul Alam': 19, 'Chaturanga de Silva': 19, 'Al-Amin Hossain': 18, 'Naveen-ul-Haq': 18, 'Shafiqullah': 18, 'Alexei Kervezee': 18, 'Lahiru Thirimanne': 18, 'Heino Kuhn': 18, 'Aftab Ahmed': 17, 'Sumon Khan': 17, 'Nasum Ahmed': 17, 'Chris Jordan': 17, 'Noor Hossain': 17, 'Tanvir Islam': 16, 'Kyle Abbott': 16, 'Steven Smith': 16, 'Hardus Viljoen': 16, 'Grant Elliott': 16, 'Naved-ul-Hasan': 15, 'Imran Uzzaman': 15, 'Fawad Alam': 14, 'Hammad Azam': 14, 'Khaled Ahmed': 14, 'Rejaur Rahman Raja': 13, 'Imtiaz Hossain': 13, 'Akbar Ali': 12, 'Usama Mir': 12, 'Darren Bravo': 12, 'Jashimuddin': 12, 'Tanzid Hasan': 11, 'Qazi Onik': 11, 'Nabil Samad': 10, 'Junaid Khan': 10, 'Robiul Haque': 10, 'Sharifullah': 10, 'Asif Hasan': 10, 'Saddam Hossain': 10, 'Qaiser Abbas': 9, 'Nikhil Dutta': 9, 'Tymal Mills': 9, 'Imran Khan': 9, 'Hashim Amla': 8, 'Faheem Ashraf': 8, 'Sohail Khan': 8, 'Wanindu Hasaranga de Silva': 8, 'Shahadat Hossain': 8, 'Mohammad Asghar': 8, 'Gihan Rupasinghe': 8, 'Raza Ali Dar': 8, 'Syed Rasel': 7, 'Sanjit Saha': 7, 'Mehedi Hasan Rana': 7, 'Adam Lyth': 7, 'Akila Dananjaya': 7, 'Kaushal Lokuarachchi': 7, 'Andrew Birch': 7, 'Muthiah Muralidaran': 7, 'Shehan Jayasuriya': 6, 'Waqar Salamkheil': 6, 'Saghir Hossain': 6, 'Ebadot Hossain': 5, 'Samiullah Shinwari': 5, 'Imad Wasim': 5, 'Awais Zia': 5, 'Aminul Islam': 4, 'Mukidul Islam': 4, 'Alzarri Joseph': 4, 'Saeed Ajmal': 4, 'Ajantha Mendis': 4, 'Hamid Hassan': 4, 'Bishawnath Halder': 4, 'Milinda Siriwardana': 4, 'Andre Adams': 4, 'Adil Rashid': 3, 'Samuel Badree': 3, 'Gary Keedy': 2, 'Mohammad Irfan': 2, 'Nihaduzzaman': 2, 'Fakhar Zaman': 2, 'Amit Kumar': 2, 'Taposh Ghosh': 2, 'Sandeep Lamichhane': 2, 'Wayne Parnell': 2, 'Dilhara Lokuhettige': 2, 'Rizwan Cheema': 2, 'Rishad Hossain': 1, 'Talha Jubair': 1, 'Al Islam': 1, 'Ifran Hossain': 1, 'Munim Shahriar': 1, 'Mukhtar Ahmed': 1, 'Subashis Roy': 1, 'Sajedul Islam': 1, 'Habibur Rahman': 1, 'Graeme Cremer': 1, 'Hossain Ali': 1, 'Shapoor Zadran': 1, 'Shaun Tait': 1, 'Hasan Mahmud': 0, 'Pinak Ghosh': 0, 'Salauddin Sakil': 0, 'Aamer Yamin': 0, 'Salman Hossain': 0, 'Hasan Murad': 0, 'Shafiqul Islam': 0, 'Daniel Bell-Drummond': 0, 'Kusal Perera': 0, 'Solomon Mire': 0, 'Jubair Ahmed': 0, 'Ben Edmondson': 0, 'Chris Liddle': 0, 'Murad Khan': 0, 'Nazmul Hossain': 0, 'Saju Datta': 0, 'Zahir Khan': 0, 'Mohor Sheikh': 0, 'Nuwan Kulasekara': 0}\n",
            "Names of the top 5 R elements:  ['Tamim Iqbal', 'Mushfiqur Rahim', 'Mahmudullah', 'Imrul Kayes', 'Sabbir Rahman']\n",
            "Values of the top 5 R elements:  [2483, 2408, 2014, 1909, 1710]\n"
          ]
        },
        {
          "output_type": "display_data",
          "data": {
            "text/plain": [
              "<Figure size 1500x1000 with 1 Axes>"
            ],
            "image/png": "[encoded data removed]"
          },
          "metadata": {}
        }
      ]
    },
    {
      "cell_type": "code",
      "source": [
        "# Let's analyse data for score - fours\n",
        "analyzeBatsMan(df2, 'fours')"
      ],
      "metadata": {
        "colab": {
          "base_uri": "https://localhost:8080/",
          "height": 919
        },
        "id": "gIarIFrsDKto",
        "outputId": "e195f0f7-bf20-4848-b0c7-66938c04e703"
      },
      "execution_count": 19,
      "outputs": [
        {
          "output_type": "stream",
          "name": "stdout",
          "text": [
            "Length of the dictionary:  372\n",
            "Dictionary of fours in descending order by value:  {'Tamim Iqbal': 258, 'Mushfiqur Rahim': 201, 'Imrul Kayes': 168, 'Shakib Al Hasan': 154, 'Mahmudullah': 153, 'Anamul Haque': 147, 'Sabbir Rahman': 136, 'Mominul Haque': 128, 'Litton Das': 124, 'Chris Gayle': 108, 'Rilee Rossouw': 108, 'Shahriar Nafees': 106, 'Soumya Sarkar': 105, 'Mohammad Mithun': 102, 'Junaid Siddique': 101, 'Andre Fletcher': 99, 'Mohammad Shahzad': 94, 'Afif Hossain': 92, 'Marlon Samuels': 91, 'Ahmed Shehzad': 90, 'Kumar Sangakkara': 89, 'Jahurul Islam': 88, 'Najmul Hossain Shanto': 87, 'Evin Lewis': 85, 'Nasir Hossain': 84, 'Shoaib Malik': 83, 'Brad Hodge': 79, 'Lendl Simmons': 79, 'Ravi Bopara': 79, 'Mosaddek Hossain': 78, 'Shamsur Rahman': 77, 'Rony Talukdar': 75, 'Mehidy Hasan Miraz': 71, 'Dawid Malan': 69, 'Dwayne Smith': 68, 'Nurul Hasan': 66, 'Mohammad Ashraful': 65, 'Thisara Perera': 64, 'Brendan Taylor': 63, 'Azhar Mahmood': 58, 'Dilshan Munaweera': 58, 'Mehedi Maruf': 56, 'Paul Stirling': 55, 'Johnson Charles': 53, 'Naeem Islam': 53, 'Ziaur Rahman': 53, 'Cameron Delport': 53, 'Andre Russell': 50, 'Ariful Haque': 50, 'Upul Tharanga': 50, 'Sunil Narine': 50, 'Shivnarine Chanderpaul': 49, 'Nicholas Pooran': 48, 'Nasir Jamshed': 47, 'Jason Roy': 47, 'Tillakaratne Dilshan': 47, 'Kieron Pollard': 46, 'Yasir Ali': 45, 'Laurie Evans': 45, 'Kamran Akmal': 44, 'Mohammad Nabi': 44, 'Riki Wessels': 44, 'Phil Mustard': 43, 'Shuvagata Hom': 43, 'Mohammad Naim': 43, 'Ryan ten Doeschate': 43, 'Alok Kapali': 42, 'Imran Nazir': 38, 'Shahid Afridi': 38, 'Daren Sammy': 37, 'Darren Stevens': 34, 'Luke Ronchi': 33, 'Samit Patel': 33, 'Mashrafe Mortaza': 32, 'Shahzaib Hasan': 31, 'Alex Hales': 31, 'Will Jacks': 30, 'Sikandar Raza': 30, 'Farhad Reza': 29, 'Joe Denly': 29, 'Peter Trego': 28, 'Sean Ervine': 28, 'Chadwick Walton': 28, 'Mahedi Hasan': 28, 'Zakir Hasan': 28, 'Charles Coventry': 27, 'Nazmul Hossain Milon': 26, 'Carlos Brathwaite': 26, 'Herschelle Gibbs': 24, 'Fazle Mahmud': 24, 'Al-Amin': 24, 'Luke Wright': 24, 'Dwayne Bravo': 22, 'Najibullah Zadran': 22, 'Nahidul Islam': 22, 'Benny Howell': 22, 'Simon Katich': 22, 'Sohail Tanvir': 21, 'Avishka Fernando': 21, 'Lewis Gregory': 21, 'Khalid Latif': 20, 'Irfan Sukkur': 20, 'Ashar Zaidi': 20, 'Brendon McCullum': 19, 'David Warner': 19, 'Mohammad Hafeez': 18, 'James Franklin': 18, 'AB de Villiers': 18, 'Mizanur Rahman': 17, 'Jeevan Mendis': 17, 'Sohag Gazi': 17, 'Josh Cobb': 17, 'Cameron Borgas': 17, 'Bhanuka Rajapaksa': 16, 'Muktar Ali': 16, 'Mohammad Nawaz': 16, 'David Wiese': 16, 'Shadman Islam': 16, 'Hasanuzzaman': 16, 'Hazratullah Zazai': 15, 'Sherfane Rutherford': 15, 'Stiaan van Zyl': 15, 'Robbie Frylinck': 15, 'Umar Akmal': 15, 'Jos Buttler': 15, 'Nazimuddin': 14, 'Kevon Cooper': 14, 'Taijul Islam': 14, 'Mahmudul Hasan Joy': 14, 'Elton Chigumbura': 14, 'Shafiul Islam': 13, 'Seekkuge Prasanna': 13, 'Abul Hasan': 13, 'Michael Klinger': 13, 'Lou Vincent': 13, 'Danza Hyatt': 13, 'Asif Ahmed': 12, 'Mahmudul Hasan': 12, 'Malcolm Waller': 12, 'Danushka Gunathilaka': 12, 'Abdul Razzaq': 11, 'Kabir Ali': 11, 'Abdul Mazid': 11, 'Misbah-ul-Haq': 11, 'Owais Shah': 11, 'Travis Birt': 11, 'Liam Dawson': 11, 'Jaker Ali': 10, 'Dasun Shanaka': 10, 'Isuru Udana': 10, 'Shykat Ali': 10, 'Faf du Plessis': 10, 'Hamilton Masakadza': 10, 'Nadif Chowdhury': 9, 'Tom Abell': 9, 'Mohammad Sami': 9, 'Abu Hider': 9, 'Arafat Sunny': 9, 'Elias Sunny': 9, 'Luis Reece': 9, 'Colin Ingram': 9, 'Jofra Archer': 9, \"Kevin O'Brien\": 9, 'Jehan Mubarak': 9, 'Sohrawordi Shuvo': 8, 'Rayad Emrit': 8, 'Shane Watson': 8, 'Shamim Hossain': 8, 'Marshall Ayub': 8, 'Christiaan Jonker': 8, 'Rahmanullah Gurbaz': 7, 'Shadab Khan': 7, 'Asif Ali': 7, 'Mohammad Saifuddin': 7, 'Mohammad Rizwan': 7, \"Niall O'Brien\": 7, 'Taibur Rahman': 7, 'Scott Styris': 6, 'Yasir Shah': 6, 'Tim Bresnan': 6, 'Babar Azam': 6, 'Daniel Harris': 6, 'Jacob Oram': 6, 'Mahela Jayawardene': 6, 'Rameez Raja': 6, 'Abdur Razzak': 5, 'Nayeem Hasan': 5, 'Sunzamul Islam': 5, 'Shoriful Islam': 5, 'Towhid Hridoy': 5, 'Ross Whiteley': 5, 'Tom Maynard': 5, 'Wahab Riaz': 4, 'Monir Hossain': 4, 'Rubel Hossain': 4, 'Krishmar Santokie': 4, 'Delwar Hossain': 4, 'Robiul Islam Robi': 4, 'Kamrul Islam': 4, 'Kennar Lewis': 4, 'Abu Jayed': 4, 'Rashid Khan': 4, 'Alfonso Thomas': 4, 'Mohammad Enamul': 4, 'Rumman Raees': 4, 'Yasir Arafat': 3, 'Nazmul Islam': 3, 'Mahidul Islam Ankon': 3, 'Naveen-ul-Haq': 3, 'Mustafizur Rahman': 3, 'Liam Plunkett': 3, 'Karim Janat': 3, 'Chamara Kapugedera': 3, 'Fidel Edwards': 3, 'Dolar Mahmud': 3, 'Mohammad Sharif': 3, 'Tanbir Hayder': 3, 'Raqibul Hasan': 3, 'David Miller': 3, 'Imtiaz Hossain': 3, 'Heino Kuhn': 3, 'Anwar Ali': 3, 'Sanath Jayasuriya': 2, 'Farhad Hossain': 2, 'Saqlain Sajib': 2, 'Ryan Burl': 2, 'Taskin Ahmed': 2, 'Alexei Kervezee': 2, 'Mujeeb Ur Rahman': 2, 'Rubel Mia': 2, 'Saif Hassan': 2, 'Mohammad Amir': 2, 'Kesrick Williams': 2, 'Hashim Amla': 2, 'Nasum Ahmed': 2, 'Jake Lintott': 2, 'Imran Uzzaman': 2, 'Lahiru Thirimanne': 2, 'Sachithra Senanayake': 2, 'Mosharraf Hossain': 2, 'Dhiman Ghosh': 2, 'Chris Jordan': 2, 'Lasith Malinga': 2, 'Saddam Hossain': 2, 'Darren Bravo': 2, 'Moeen Ali': 2, 'Mehrab Hossain jnr': 2, 'Sulieman Benn': 2, 'Noor Hossain': 2, 'Mohammad Asghar': 2, 'Tymal Mills': 2, 'Alauddin Babu': 1, 'Qaiser Abbas': 1, 'Aftab Ahmed': 1, 'Fawad Alam': 1, 'Nabil Samad': 1, 'Al-Amin Hossain': 1, 'Syed Rasel': 1, 'Shohidul Islam': 1, 'Sumon Khan': 1, 'Robiul Haque': 1, 'Mukidul Islam': 1, 'Asela Gunaratne': 1, 'Mehedi Hasan Rana': 1, 'Mrittunjoy Chowdhury': 1, 'Sharifullah': 1, 'Saeed Ajmal': 1, 'Mohammad Shahid': 1, 'Hammad Azam': 1, 'Asif Hasan': 1, 'Bilawal Bhatti': 1, 'Sohail Khan': 1, 'Nikhil Dutta': 1, 'Abdullah Al Mamun': 1, 'Adam Lyth': 1, 'Wanindu Hasaranga de Silva': 1, 'Hasan Ali': 1, 'Naeem Islam jnr': 1, 'Usama Mir': 1, 'Kyle Abbott': 1, 'Kaushal Lokuarachchi': 1, 'Dimitri Mascarenhas': 1, 'Shahadat Hossain': 1, 'Mahbubul Alam': 1, 'Farveez Maharoof': 1, 'Jashimuddin': 1, 'Steven Smith': 1, 'Qais Ahmad': 1, 'Darwish Rasooli': 1, 'Khaled Ahmed': 1, 'Imad Wasim': 1, 'Hardus Viljoen': 1, 'Waqar Salamkheil': 1, 'Chaturanga de Silva': 1, 'Grant Elliott': 1, 'Matt Coles': 1, 'Imran Khan': 1, 'Awais Zia': 1, 'Andre Adams': 1, 'Saghir Hossain': 1, 'Faisal Hossain': 0, 'Brad Hogg': 0, 'Gary Keedy': 0, 'Rishad Hossain': 0, 'Naved-ul-Hasan': 0, 'Shafiqullah': 0, 'Hasan Mahmud': 0, 'Ebadot Hossain': 0, 'Sanjit Saha': 0, 'Talha Jubair': 0, 'Junaid Khan': 0, 'Pinak Ghosh': 0, 'Aminul Islam': 0, 'Tanvir Islam': 0, 'Salauddin Sakil': 0, 'Mohammad Irfan': 0, 'Aamer Yamin': 0, 'Fardeen Hasan': 0, 'Faheem Ashraf': 0, 'Al Islam': 0, 'Tanzid Hasan': 0, 'Ifran Hossain': 0, 'Salman Hossain': 0, 'Munim Shahriar': 0, 'Rejaur Rahman Raja': 0, 'Alzarri Joseph': 0, 'Hasan Murad': 0, 'Akbar Ali': 0, 'Shafiqul Islam': 0, 'Mukhtar Ahmed': 0, 'Enamul Haque jnr': 0, 'Ajantha Mendis': 0, 'Shehan Jayasuriya': 0, 'Subashis Roy': 0, 'Sajedul Islam': 0, 'Adil Rashid': 0, 'Samiullah Shinwari': 0, 'Nihaduzzaman': 0, 'Akila Dananjaya': 0, 'Daniel Bell-Drummond': 0, 'Kusal Perera': 0, 'Fakhar Zaman': 0, 'Solomon Mire': 0, 'Habibur Rahman': 0, 'Graeme Cremer': 0, 'Hossain Ali': 0, 'Qazi Onik': 0, 'Shapoor Zadran': 0, 'Jubair Ahmed': 0, 'Samuel Badree': 0, 'Shaun Tait': 0, 'Ben Edmondson': 0, 'Amit Kumar': 0, 'Taposh Ghosh': 0, 'Hamid Hassan': 0, 'Bishawnath Halder': 0, 'Chris Liddle': 0, 'Sandeep Lamichhane': 0, 'Murad Khan': 0, 'Nazmul Hossain': 0, 'Saju Datta': 0, 'Zahir Khan': 0, 'Mohor Sheikh': 0, 'Andrew Birch': 0, 'Wayne Parnell': 0, 'Milinda Siriwardana': 0, 'Gihan Rupasinghe': 0, 'Nuwan Kulasekara': 0, 'Raza Ali Dar': 0, 'Muthiah Muralidaran': 0, 'Dilhara Lokuhettige': 0, 'Rizwan Cheema': 0}\n",
            "Names of the top 5 fours elements:  ['Tamim Iqbal', 'Mushfiqur Rahim', 'Imrul Kayes', 'Shakib Al Hasan', 'Mahmudullah']\n",
            "Values of the top 5 fours elements:  [258, 201, 168, 154, 153]\n"
          ]
        },
        {
          "output_type": "display_data",
          "data": {
            "text/plain": [
              "<Figure size 1500x1000 with 1 Axes>"
            ],
            "image/png": "[encoded data removed]"
          },
          "metadata": {}
        }
      ]
    },
    {
      "cell_type": "code",
      "source": [
        "# Let's analyze data for score - sixes\n",
        "analyzeBatsMan(df2, 'sixs')"
      ],
      "metadata": {
        "colab": {
          "base_uri": "https://localhost:8080/",
          "height": 919
        },
        "id": "PAYUpgn5DojJ",
        "outputId": "9779d5fd-448a-40e9-f9de-a9ad8d5aa85a"
      },
      "execution_count": 20,
      "outputs": [
        {
          "output_type": "stream",
          "name": "stdout",
          "text": [
            "Length of the dictionary:  372\n",
            "Dictionary of sixs in descending order by value:  {'Chris Gayle': 139, 'Tamim Iqbal': 80, 'Imrul Kayes': 80, 'Mushfiqur Rahim': 75, 'Mahmudullah': 74, 'Sabbir Rahman': 70, 'Andre Russell': 67, 'Mohammad Mithun': 61, 'Anamul Haque': 58, 'Evin Lewis': 57, 'Rilee Rossouw': 55, 'Kieron Pollard': 48, 'Ziaur Rahman': 46, 'Shakib Al Hasan': 45, 'Thisara Perera': 45, 'Nicholas Pooran': 41, 'Andre Fletcher': 39, 'Afif Hossain': 39, 'Marlon Samuels': 38, 'Shahid Afridi': 38, 'Litton Das': 38, 'Shoaib Malik': 38, 'Cameron Delport': 37, 'Daren Sammy': 34, 'Ryan ten Doeschate': 34, 'Ahmed Shehzad': 33, 'Junaid Siddique': 33, 'Mohammad Shahzad': 33, 'Nasir Hossain': 33, 'Dawid Malan': 33, 'Mashrafe Mortaza': 33, 'Brad Hodge': 32, 'Dwayne Smith': 32, 'Johnson Charles': 31, 'Lendl Simmons': 31, 'Soumya Sarkar': 31, 'Yasir Ali': 29, 'Mosaddek Hossain': 29, 'Shamsur Rahman': 29, 'Mominul Haque': 28, 'Sunil Narine': 28, 'Jahurul Islam': 27, 'Najmul Hossain Shanto': 27, 'Ravi Bopara': 27, 'Mehedi Maruf': 27, 'Nurul Hasan': 25, 'Seekkuge Prasanna': 25, 'Rony Talukdar': 23, 'Azhar Mahmood': 22, 'Chadwick Walton': 22, 'Mohammad Nabi': 22, 'Carlos Brathwaite': 22, 'Mahedi Hasan': 21, 'Ariful Haque': 21, 'Mehidy Hasan Miraz': 21, 'Luke Ronchi': 21, 'Brendon McCullum': 21, 'Jason Roy': 20, 'Brendan Taylor': 19, 'Elton Chigumbura': 19, 'Imran Nazir': 18, 'Shahriar Nafees': 18, 'Dasun Shanaka': 18, 'Sikandar Raza': 18, 'Kamran Akmal': 17, 'Benny Howell': 17, 'Samit Patel': 17, 'AB de Villiers': 17, 'Alok Kapali': 16, 'Nazmul Hossain Milon': 16, 'Hazratullah Zazai': 16, 'Mohammad Nawaz': 16, 'Paul Stirling': 16, 'Naeem Islam': 15, 'Robbie Frylinck': 15, 'James Franklin': 15, 'Dwayne Bravo': 14, 'Mohammad Ashraful': 14, 'Shuvagata Hom': 14, 'Mohammad Naim': 14, 'Avishka Fernando': 14, 'Farhad Reza': 14, 'Will Jacks': 14, 'Tillakaratne Dilshan': 14, 'Alex Hales': 14, 'Jeevan Mendis': 13, 'Darren Stevens': 13, 'Lewis Gregory': 13, 'Najibullah Zadran': 13, 'David Wiese': 13, 'Nasir Jamshed': 12, 'Sean Ervine': 12, 'Muktar Ali': 12, 'Kumar Sangakkara': 12, 'Dilshan Munaweera': 12, 'Josh Cobb': 12, 'Bhanuka Rajapaksa': 11, 'Nadif Chowdhury': 11, 'Fazle Mahmud': 11, 'Shivnarine Chanderpaul': 10, 'Laurie Evans': 10, 'Kevon Cooper': 10, 'Upul Tharanga': 10, 'Sherfane Rutherford': 10, 'Asif Ali': 10, 'Ashar Zaidi': 10, 'Zakir Hasan': 10, 'Joe Denly': 10, 'Travis Birt': 10, 'Charles Coventry': 10, 'Sohail Tanvir': 9, 'Rahmanullah Gurbaz': 9, 'Stiaan van Zyl': 9, 'Lou Vincent': 9, 'Khalid Latif': 8, 'Al-Amin': 8, 'Owais Shah': 8, 'Jos Buttler': 8, 'Danushka Gunathilaka': 8, 'Riki Wessels': 8, 'Kabir Ali': 7, 'Jaker Ali': 7, 'Wahab Riaz': 7, 'Abu Hider': 7, 'Shane Watson': 7, 'Sohag Gazi': 7, \"Kevin O'Brien\": 7, 'Scott Styris': 6, 'Shadab Khan': 6, 'Umar Akmal': 6, 'Christiaan Jonker': 6, 'Mohammad Enamul': 6, 'Phil Mustard': 5, 'Shahzaib Hasan': 5, 'Peter Trego': 5, 'Abdul Razzaq': 5, 'Mohammad Sami': 5, 'Mahidul Islam Ankon': 5, 'Rayad Emrit': 5, 'Luis Reece': 5, 'Irfan Sukkur': 5, 'Shykat Ali': 5, 'Karim Janat': 5, 'Misbah-ul-Haq': 5, 'Luke Wright': 5, 'Ross Whiteley': 5, 'Hasan Ali': 5, 'Cameron Borgas': 5, 'David Warner': 5, 'Liam Dawson': 5, 'Mizanur Rahman': 4, 'Sanath Jayasuriya': 4, 'Nazimuddin': 4, 'Mustafizur Rahman': 4, 'Abdul Mazid': 4, 'Colin Ingram': 4, 'Abul Hasan': 4, 'Malcolm Waller': 4, 'Jehan Mubarak': 4, 'Hasanuzzaman': 4, 'Nahidul Islam': 3, 'Kamrul Islam': 3, 'Kennar Lewis': 3, 'Isuru Udana': 3, 'Faf du Plessis': 3, 'Towhid Hridoy': 3, 'Mohammad Saifuddin': 3, 'Tim Bresnan': 3, 'Jofra Archer': 3, 'Babar Azam': 3, 'Moeen Ali': 3, 'Danza Hyatt': 3, 'Qais Ahmad': 3, 'Darwish Rasooli': 3, 'Herschelle Gibbs': 2, 'Farhad Hossain': 2, 'Alauddin Babu': 2, 'Rubel Hossain': 2, 'Krishmar Santokie': 2, 'Arafat Sunny': 2, 'Taskin Ahmed': 2, 'Shafiqullah': 2, 'Elias Sunny': 2, 'Mohammad Amir': 2, 'Shafiul Islam': 2, 'Kesrick Williams': 2, 'Taijul Islam': 2, 'Asela Gunaratne': 2, 'Shoriful Islam': 2, 'Mahmudul Hasan': 2, 'Michael Klinger': 2, 'Hamilton Masakadza': 2, 'Daniel Harris': 2, \"Niall O'Brien\": 2, 'Dimitri Mascarenhas': 2, 'Marshall Ayub': 2, 'Mahbubul Alam': 2, 'Farveez Maharoof': 2, 'Matt Coles': 2, 'Nazmul Islam': 1, 'Abdur Razzak': 1, 'Nayeem Hasan': 1, 'Monir Hossain': 1, 'Mujeeb Ur Rahman': 1, 'Rubel Mia': 1, 'Liam Plunkett': 1, 'Sumon Khan': 1, 'Tanvir Islam': 1, 'Shadman Islam': 1, 'Shamim Hossain': 1, 'Fardeen Hasan': 1, 'Tanzid Hasan': 1, 'Abu Jayed': 1, 'Jake Lintott': 1, 'Mahmudul Hasan Joy': 1, 'Akbar Ali': 1, 'Mrittunjoy Chowdhury': 1, 'Chamara Kapugedera': 1, 'Hammad Azam': 1, 'Yasir Shah': 1, 'Dhiman Ghosh': 1, 'Abdullah Al Mamun': 1, 'Mohammad Sharif': 1, 'Lasith Malinga': 1, 'Usama Mir': 1, 'Rashid Khan': 1, 'Mehrab Hossain jnr': 1, 'Jacob Oram': 1, 'Simon Katich': 1, 'Sulieman Benn': 1, 'David Miller': 1, 'Noor Hossain': 1, 'Hardus Viljoen': 1, 'Chaturanga de Silva': 1, 'Taibur Rahman': 1, 'Rumman Raees': 1, 'Anwar Ali': 1, 'Gihan Rupasinghe': 1, 'Rameez Raja': 1, 'Muthiah Muralidaran': 1, 'Faisal Hossain': 0, 'Yasir Arafat': 0, 'Tom Abell': 0, 'Brad Hogg': 0, 'Qaiser Abbas': 0, 'Aftab Ahmed': 0, 'Sohrawordi Shuvo': 0, 'Fawad Alam': 0, 'Gary Keedy': 0, 'Nabil Samad': 0, 'Al-Amin Hossain': 0, 'Syed Rasel': 0, 'Asif Ahmed': 0, 'Sunzamul Islam': 0, 'Naveen-ul-Haq': 0, 'Rishad Hossain': 0, 'Saqlain Sajib': 0, 'Naved-ul-Hasan': 0, 'Ryan Burl': 0, 'Hasan Mahmud': 0, 'Ebadot Hossain': 0, 'Alexei Kervezee': 0, 'Delwar Hossain': 0, 'Sanjit Saha': 0, 'Talha Jubair': 0, 'Junaid Khan': 0, 'Robiul Islam Robi': 0, 'Saif Hassan': 0, 'Shohidul Islam': 0, 'Pinak Ghosh': 0, 'Aminul Islam': 0, 'Salauddin Sakil': 0, 'Robiul Haque': 0, 'Mukidul Islam': 0, 'Mohammad Irfan': 0, 'Hashim Amla': 0, 'Aamer Yamin': 0, 'Faheem Ashraf': 0, 'Al Islam': 0, 'Nasum Ahmed': 0, 'Mehedi Hasan Rana': 0, 'Ifran Hossain': 0, 'Salman Hossain': 0, 'Munim Shahriar': 0, 'Imran Uzzaman': 0, 'Rejaur Rahman Raja': 0, 'Alzarri Joseph': 0, 'Hasan Murad': 0, 'Shafiqul Islam': 0, 'Sharifullah': 0, 'Mukhtar Ahmed': 0, 'Lahiru Thirimanne': 0, 'Sachithra Senanayake': 0, 'Enamul Haque jnr': 0, 'Saeed Ajmal': 0, 'Mohammad Shahid': 0, 'Ajantha Mendis': 0, 'Shehan Jayasuriya': 0, 'Mosharraf Hossain': 0, 'Fidel Edwards': 0, 'Asif Hasan': 0, 'Subashis Roy': 0, 'Mohammad Hafeez': 0, 'Bilawal Bhatti': 0, 'Sohail Khan': 0, 'Dolar Mahmud': 0, 'Sajedul Islam': 0, 'Nikhil Dutta': 0, 'Adam Lyth': 0, 'Adil Rashid': 0, 'Chris Jordan': 0, 'Wanindu Hasaranga de Silva': 0, 'Samiullah Shinwari': 0, 'Nihaduzzaman': 0, 'Akila Dananjaya': 0, 'Tanbir Hayder': 0, 'Daniel Bell-Drummond': 0, 'Saddam Hossain': 0, 'Naeem Islam jnr': 0, 'Kusal Perera': 0, 'Fakhar Zaman': 0, 'Kyle Abbott': 0, 'Solomon Mire': 0, 'Darren Bravo': 0, 'Mohammad Rizwan': 0, 'Habibur Rahman': 0, 'Graeme Cremer': 0, 'Hossain Ali': 0, 'Raqibul Hasan': 0, 'Qazi Onik': 0, 'Kaushal Lokuarachchi': 0, 'Alfonso Thomas': 0, 'Shapoor Zadran': 0, 'Shahadat Hossain': 0, 'Jubair Ahmed': 0, 'Samuel Badree': 0, 'Shaun Tait': 0, 'Ben Edmondson': 0, 'Amit Kumar': 0, 'Taposh Ghosh': 0, 'Hamid Hassan': 0, 'Bishawnath Halder': 0, 'Chris Liddle': 0, 'Jashimuddin': 0, 'Sandeep Lamichhane': 0, 'Murad Khan': 0, 'Imtiaz Hossain': 0, 'Nazmul Hossain': 0, 'Steven Smith': 0, 'Saju Datta': 0, 'Zahir Khan': 0, 'Heino Kuhn': 0, 'Mohor Sheikh': 0, 'Khaled Ahmed': 0, 'Andrew Birch': 0, 'Mahela Jayawardene': 0, 'Wayne Parnell': 0, 'Imad Wasim': 0, 'Waqar Salamkheil': 0, 'Mohammad Asghar': 0, 'Tymal Mills': 0, 'Grant Elliott': 0, 'Milinda Siriwardana': 0, 'Imran Khan': 0, 'Nuwan Kulasekara': 0, 'Tom Maynard': 0, 'Raza Ali Dar': 0, 'Awais Zia': 0, 'Andre Adams': 0, 'Saghir Hossain': 0, 'Dilhara Lokuhettige': 0, 'Rizwan Cheema': 0}\n",
            "Names of the top 5 sixs elements:  ['Chris Gayle', 'Tamim Iqbal', 'Imrul Kayes', 'Mushfiqur Rahim', 'Mahmudullah']\n",
            "Values of the top 5 sixs elements:  [139, 80, 80, 75, 74]\n"
          ]
        },
        {
          "output_type": "display_data",
          "data": {
            "text/plain": [
              "<Figure size 1500x1000 with 1 Axes>"
            ],
            "image/png": "[encoded data removed]"
          },
          "metadata": {}
        }
      ]
    },
    {
      "cell_type": "markdown",
      "source": [
        "## Analyzing dataset of Bowlers"
      ],
      "metadata": {
        "id": "c1Dy0bKgVDYW"
      }
    },
    {
      "cell_type": "code",
      "source": [
        "df3 = pd.read_csv('/content/bowler.csv')\n",
        "print(df3.shape)\n",
        "df3.head()"
      ],
      "metadata": {
        "colab": {
          "base_uri": "https://localhost:8080/",
          "height": 223
        },
        "id": "yGLOJKnEbPiS",
        "outputId": "2e99f496-b042-4fd5-f937-a8c666efe849"
      },
      "execution_count": 21,
      "outputs": [
        {
          "output_type": "stream",
          "name": "stdout",
          "text": [
            "(3601, 12)\n"
          ]
        },
        {
          "output_type": "execute_result",
          "data": {
            "text/plain": [
              "   id   season match_no         date       player_name    O  M   R  W   ECON  \\\n",
              "0   0  2011/12    Final  Feb 29 2012  Mashrafe Mortaza  2.0  0  17  0   8.50   \n",
              "1   0  2011/12    Final  Feb 29 2012     Azhar Mahmood  2.0  0  25  0  12.50   \n",
              "2  32  2011/12      1st  Feb 10 2012      Yasir Arafat  4.0  0  33  2   8.25   \n",
              "3  29  2011/12      4th  Feb 11 2012        Syed Rasel  3.0  0  33  0  11.00   \n",
              "4  28  2011/12      5th  Feb 12 2012      Dwayne Bravo  4.0  0  34  1   8.50   \n",
              "\n",
              "   WD  NB  \n",
              "0   0   0  \n",
              "1   0   1  \n",
              "2   2   0  \n",
              "3   2   0  \n",
              "4   3   1  "
            ],
            "text/html": [
              "\n",
              "  <div id=\"df-72244f2d-85ed-4268-8832-d4f0b37d42d8\" class=\"colab-df-container\">\n",
              "    <div>\n",
              "<style scoped>\n",
              "    .dataframe tbody tr th:only-of-type {\n",
              "        vertical-align: middle;\n",
              "    }\n",
              "\n",
              "    .dataframe tbody tr th {\n",
              "        vertical-align: top;\n",
              "    }\n",
              "\n",
              "    .dataframe thead th {\n",
              "        text-align: right;\n",
              "    }\n",
              "</style>\n",
              "<table border=\"1\" class=\"dataframe\">\n",
              "  <thead>\n",
              "    <tr style=\"text-align: right;\">\n",
              "      <th></th>\n",
              "      <th>id</th>\n",
              "      <th>season</th>\n",
              "      <th>match_no</th>\n",
              "      <th>date</th>\n",
              "      <th>player_name</th>\n",
              "      <th>O</th>\n",
              "      <th>M</th>\n",
              "      <th>R</th>\n",
              "      <th>W</th>\n",
              "      <th>ECON</th>\n",
              "      <th>WD</th>\n",
              "      <th>NB</th>\n",
              "    </tr>\n",
              "  </thead>\n",
              "  <tbody>\n",
              "    <tr>\n",
              "      <th>0</th>\n",
              "      <td>0</td>\n",
              "      <td>2011/12</td>\n",
              "      <td>Final</td>\n",
              "      <td>Feb 29 2012</td>\n",
              "      <td>Mashrafe Mortaza</td>\n",
              "      <td>2.0</td>\n",
              "      <td>0</td>\n",
              "      <td>17</td>\n",
              "      <td>0</td>\n",
              "      <td>8.50</td>\n",
              "      <td>0</td>\n",
              "      <td>0</td>\n",
              "    </tr>\n",
              "    <tr>\n",
              "      <th>1</th>\n",
              "      <td>0</td>\n",
              "      <td>2011/12</td>\n",
              "      <td>Final</td>\n",
              "      <td>Feb 29 2012</td>\n",
              "      <td>Azhar Mahmood</td>\n",
              "      <td>2.0</td>\n",
              "      <td>0</td>\n",
              "      <td>25</td>\n",
              "      <td>0</td>\n",
              "      <td>12.50</td>\n",
              "      <td>0</td>\n",
              "      <td>1</td>\n",
              "    </tr>\n",
              "    <tr>\n",
              "      <th>2</th>\n",
              "      <td>32</td>\n",
              "      <td>2011/12</td>\n",
              "      <td>1st</td>\n",
              "      <td>Feb 10 2012</td>\n",
              "      <td>Yasir Arafat</td>\n",
              "      <td>4.0</td>\n",
              "      <td>0</td>\n",
              "      <td>33</td>\n",
              "      <td>2</td>\n",
              "      <td>8.25</td>\n",
              "      <td>2</td>\n",
              "      <td>0</td>\n",
              "    </tr>\n",
              "    <tr>\n",
              "      <th>3</th>\n",
              "      <td>29</td>\n",
              "      <td>2011/12</td>\n",
              "      <td>4th</td>\n",
              "      <td>Feb 11 2012</td>\n",
              "      <td>Syed Rasel</td>\n",
              "      <td>3.0</td>\n",
              "      <td>0</td>\n",
              "      <td>33</td>\n",
              "      <td>0</td>\n",
              "      <td>11.00</td>\n",
              "      <td>2</td>\n",
              "      <td>0</td>\n",
              "    </tr>\n",
              "    <tr>\n",
              "      <th>4</th>\n",
              "      <td>28</td>\n",
              "      <td>2011/12</td>\n",
              "      <td>5th</td>\n",
              "      <td>Feb 12 2012</td>\n",
              "      <td>Dwayne Bravo</td>\n",
              "      <td>4.0</td>\n",
              "      <td>0</td>\n",
              "      <td>34</td>\n",
              "      <td>1</td>\n",
              "      <td>8.50</td>\n",
              "      <td>3</td>\n",
              "      <td>1</td>\n",
              "    </tr>\n",
              "  </tbody>\n",
              "</table>\n",
              "</div>\n",
              "    <div class=\"colab-df-buttons\">\n",
              "\n",
              "  <div class=\"colab-df-container\">\n",
              "    <button class=\"colab-df-convert\" onclick=\"convertToInteractive('df-72244f2d-85ed-4268-8832-d4f0b37d42d8')\"\n",
              "            title=\"Convert this dataframe to an interactive table.\"\n",
              "            style=\"display:none;\">\n",
              "\n",
              "  <svg xmlns=\"http://www.w3.org/2000/svg\" height=\"24px\" viewBox=\"0 -960 960 960\">\n",
              "    <path d=\"M120-120v-720h720v720H120Zm60-500h600v-160H180v160Zm220 220h160v-160H400v160Zm0 220h160v-160H400v160ZM180-400h160v-160H180v160Zm440 0h160v-160H620v160ZM180-180h160v-160H180v160Zm440 0h160v-160H620v160Z\"/>\n",
              "  </svg>\n",
              "    </button>\n",
              "\n",
              "  <style>\n",
              "    .colab-df-container {\n",
              "      display:flex;\n",
              "      gap: 12px;\n",
              "    }\n",
              "\n",
              "    .colab-df-convert {\n",
              "      background-color: #E8F0FE;\n",
              "      border: none;\n",
              "      border-radius: 50%;\n",
              "      cursor: pointer;\n",
              "      display: none;\n",
              "      fill: #1967D2;\n",
              "      height: 32px;\n",
              "      padding: 0 0 0 0;\n",
              "      width: 32px;\n",
              "    }\n",
              "\n",
              "    .colab-df-convert:hover {\n",
              "      background-color: #E2EBFA;\n",
              "      box-shadow: 0px 1px 2px rgba(60, 64, 67, 0.3), 0px 1px 3px 1px rgba(60, 64, 67, 0.15);\n",
              "      fill: #174EA6;\n",
              "    }\n",
              "\n",
              "    .colab-df-buttons div {\n",
              "      margin-bottom: 4px;\n",
              "    }\n",
              "\n",
              "    [theme=dark] .colab-df-convert {\n",
              "      background-color: #3B4455;\n",
              "      fill: #D2E3FC;\n",
              "    }\n",
              "\n",
              "    [theme=dark] .colab-df-convert:hover {\n",
              "      background-color: #434B5C;\n",
              "      box-shadow: 0px 1px 3px 1px rgba(0, 0, 0, 0.15);\n",
              "      filter: drop-shadow(0px 1px 2px rgba(0, 0, 0, 0.3));\n",
              "      fill: #FFFFFF;\n",
              "    }\n",
              "  </style>\n",
              "\n",
              "    <script>\n",
              "      const buttonEl =\n",
              "        document.querySelector('#df-72244f2d-85ed-4268-8832-d4f0b37d42d8 button.colab-df-convert');\n",
              "      buttonEl.style.display =\n",
              "        google.colab.kernel.accessAllowed ? 'block' : 'none';\n",
              "\n",
              "      async function convertToInteractive(key) {\n",
              "        const element = document.querySelector('#df-72244f2d-85ed-4268-8832-d4f0b37d42d8');\n",
              "        const dataTable =\n",
              "          await google.colab.kernel.invokeFunction('convertToInteractive',\n",
              "                                                    [key], {});\n",
              "        if (!dataTable) return;\n",
              "\n",
              "        const docLinkHtml = 'Like what you see? Visit the ' +\n",
              "          '<a target=\"_blank\" href=https://colab.research.google.com/notebooks/data_table.ipynb>data table notebook</a>'\n",
              "          + ' to learn more about interactive tables.';\n",
              "        element.innerHTML = '';\n",
              "        dataTable['output_type'] = 'display_data';\n",
              "        await google.colab.output.renderOutput(dataTable, element);\n",
              "        const docLink = document.createElement('div');\n",
              "        docLink.innerHTML = docLinkHtml;\n",
              "        element.appendChild(docLink);\n",
              "      }\n",
              "    </script>\n",
              "  </div>\n",
              "\n",
              "\n",
              "<div id=\"df-143300f9-2f0f-418e-b71e-0ebef3fdba64\">\n",
              "  <button class=\"colab-df-quickchart\" onclick=\"quickchart('df-143300f9-2f0f-418e-b71e-0ebef3fdba64')\"\n",
              "            title=\"Suggest charts\"\n",
              "            style=\"display:none;\">\n",
              "\n",
              "<svg xmlns=\"http://www.w3.org/2000/svg\" height=\"24px\"viewBox=\"0 0 24 24\"\n",
              "     width=\"24px\">\n",
              "    <g>\n",
              "        <path d=\"M19 3H5c-1.1 0-2 .9-2 2v14c0 1.1.9 2 2 2h14c1.1 0 2-.9 2-2V5c0-1.1-.9-2-2-2zM9 17H7v-7h2v7zm4 0h-2V7h2v10zm4 0h-2v-4h2v4z\"/>\n",
              "    </g>\n",
              "</svg>\n",
              "  </button>\n",
              "\n",
              "<style>\n",
              "  .colab-df-quickchart {\n",
              "      --bg-color: #E8F0FE;\n",
              "      --fill-color: #1967D2;\n",
              "      --hover-bg-color: #E2EBFA;\n",
              "      --hover-fill-color: #174EA6;\n",
              "      --disabled-fill-color: #AAA;\n",
              "      --disabled-bg-color: #DDD;\n",
              "  }\n",
              "\n",
              "  [theme=dark] .colab-df-quickchart {\n",
              "      --bg-color: #3B4455;\n",
              "      --fill-color: #D2E3FC;\n",
              "      --hover-bg-color: #434B5C;\n",
              "      --hover-fill-color: #FFFFFF;\n",
              "      --disabled-bg-color: #3B4455;\n",
              "      --disabled-fill-color: #666;\n",
              "  }\n",
              "\n",
              "  .colab-df-quickchart {\n",
              "    background-color: var(--bg-color);\n",
              "    border: none;\n",
              "    border-radius: 50%;\n",
              "    cursor: pointer;\n",
              "    display: none;\n",
              "    fill: var(--fill-color);\n",
              "    height: 32px;\n",
              "    padding: 0;\n",
              "    width: 32px;\n",
              "  }\n",
              "\n",
              "  .colab-df-quickchart:hover {\n",
              "    background-color: var(--hover-bg-color);\n",
              "    box-shadow: 0 1px 2px rgba(60, 64, 67, 0.3), 0 1px 3px 1px rgba(60, 64, 67, 0.15);\n",
              "    fill: var(--button-hover-fill-color);\n",
              "  }\n",
              "\n",
              "  .colab-df-quickchart-complete:disabled,\n",
              "  .colab-df-quickchart-complete:disabled:hover {\n",
              "    background-color: var(--disabled-bg-color);\n",
              "    fill: var(--disabled-fill-color);\n",
              "    box-shadow: none;\n",
              "  }\n",
              "\n",
              "  .colab-df-spinner {\n",
              "    border: 2px solid var(--fill-color);\n",
              "    border-color: transparent;\n",
              "    border-bottom-color: var(--fill-color);\n",
              "    animation:\n",
              "      spin 1s steps(1) infinite;\n",
              "  }\n",
              "\n",
              "  @keyframes spin {\n",
              "    0% {\n",
              "      border-color: transparent;\n",
              "      border-bottom-color: var(--fill-color);\n",
              "      border-left-color: var(--fill-color);\n",
              "    }\n",
              "    20% {\n",
              "      border-color: transparent;\n",
              "      border-left-color: var(--fill-color);\n",
              "      border-top-color: var(--fill-color);\n",
              "    }\n",
              "    30% {\n",
              "      border-color: transparent;\n",
              "      border-left-color: var(--fill-color);\n",
              "      border-top-color: var(--fill-color);\n",
              "      border-right-color: var(--fill-color);\n",
              "    }\n",
              "    40% {\n",
              "      border-color: transparent;\n",
              "      border-right-color: var(--fill-color);\n",
              "      border-top-color: var(--fill-color);\n",
              "    }\n",
              "    60% {\n",
              "      border-color: transparent;\n",
              "      border-right-color: var(--fill-color);\n",
              "    }\n",
              "    80% {\n",
              "      border-color: transparent;\n",
              "      border-right-color: var(--fill-color);\n",
              "      border-bottom-color: var(--fill-color);\n",
              "    }\n",
              "    90% {\n",
              "      border-color: transparent;\n",
              "      border-bottom-color: var(--fill-color);\n",
              "    }\n",
              "  }\n",
              "</style>\n",
              "\n",
              "  <script>\n",
              "    async function quickchart(key) {\n",
              "      const quickchartButtonEl =\n",
              "        document.querySelector('#' + key + ' button');\n",
              "      quickchartButtonEl.disabled = true;  // To prevent multiple clicks.\n",
              "      quickchartButtonEl.classList.add('colab-df-spinner');\n",
              "      try {\n",
              "        const charts = await google.colab.kernel.invokeFunction(\n",
              "            'suggestCharts', [key], {});\n",
              "      } catch (error) {\n",
              "        console.error('Error during call to suggestCharts:', error);\n",
              "      }\n",
              "      quickchartButtonEl.classList.remove('colab-df-spinner');\n",
              "      quickchartButtonEl.classList.add('colab-df-quickchart-complete');\n",
              "    }\n",
              "    (() => {\n",
              "      let quickchartButtonEl =\n",
              "        document.querySelector('#df-143300f9-2f0f-418e-b71e-0ebef3fdba64 button');\n",
              "      quickchartButtonEl.style.display =\n",
              "        google.colab.kernel.accessAllowed ? 'block' : 'none';\n",
              "    })();\n",
              "  </script>\n",
              "</div>\n",
              "\n",
              "    </div>\n",
              "  </div>\n"
            ]
          },
          "metadata": {},
          "execution_count": 21
        }
      ]
    },
    {
      "cell_type": "markdown",
      "source": [
        "### Function to analyze data of Bowlers"
      ],
      "metadata": {
        "id": "CWA2vPoYU7dc"
      }
    },
    {
      "cell_type": "code",
      "source": [
        "def analyzeBowlers(dataFrame, col):\n",
        "  dictionary = dict()\n",
        "\n",
        "  # enlist all the unique data and count their frequency\n",
        "  for i in dataFrame.index:\n",
        "    if dataFrame[col][i] != '-':\n",
        "      val = int(dataFrame[col][i])\n",
        "      if dataFrame['player_name'][i] not in dictionary:\n",
        "        dictionary[dataFrame['player_name'][i]] = val\n",
        "      else:\n",
        "        dictionary[dataFrame['player_name'][i]] += val\n",
        "\n",
        "  print('Length of the dictionary: ', len(dictionary))\n",
        "\n",
        "  # function call to plot the graph\n",
        "  plotGraph(dictionary, col)"
      ],
      "metadata": {
        "id": "hw0qpq6-SqN7"
      },
      "execution_count": 22,
      "outputs": []
    },
    {
      "cell_type": "markdown",
      "source": [
        "### Let's Start to Analyze Datasets w.r.t. Player Name."
      ],
      "metadata": {
        "id": "fMf6FucXduZV"
      }
    },
    {
      "cell_type": "code",
      "source": [
        "# Let's analyze data for wickets\n",
        "analyzeBowlers(df3, 'W')"
      ],
      "metadata": {
        "colab": {
          "base_uri": "https://localhost:8080/",
          "height": 919
        },
        "id": "Z7hORa7sEK26",
        "outputId": "c30eea3b-9373-447a-a31f-07e211d1f0fb"
      },
      "execution_count": 23,
      "outputs": [
        {
          "output_type": "stream",
          "name": "stdout",
          "text": [
            "Length of the dictionary:  263\n",
            "Dictionary of W in descending order by value:  {'Shakib Al Hasan': 116, 'Rubel Hossain': 95, 'Mashrafe Mortaza': 84, 'Taskin Ahmed': 79, 'Shafiul Islam': 78, 'Farhad Reza': 68, 'Arafat Sunny': 66, 'Kevon Cooper': 63, 'Mohammad Nabi': 61, 'Mustafizur Rahman': 61, 'Thisara Perera': 59, 'Shahid Afridi': 57, 'Abu Jayed': 57, 'Nazmul Islam': 55, 'Andre Russell': 55, 'Dwayne Bravo': 53, 'Al-Amin Hossain': 52, 'Sohag Gazi': 52, 'Taijul Islam': 49, 'Mosharraf Hossain': 48, 'Kamrul Islam': 46, 'Mahmudullah': 45, 'Mehidy Hasan Miraz': 45, 'Abu Hider': 45, 'Mohammad Saifuddin': 45, 'Mohammad Sami': 44, 'Ravi Bopara': 42, 'Abul Hasan': 41, 'Junaid Khan': 38, 'Mohammad Amir': 38, 'Nasir Hossain': 37, 'Mahedi Hasan': 37, 'Sunzamul Islam': 35, 'Abdur Razzak': 34, 'Sohail Tanvir': 34, 'Alok Kapali': 33, 'Sunil Narine': 33, 'Mohammad Shahid': 33, 'Robbie Frylinck': 32, 'Enamul Haque jnr': 31, 'Shohidul Islam': 31, 'Nabil Samad': 30, 'Saqlain Sajib': 30, 'Azhar Mahmood': 28, 'Elias Sunny': 27, 'Wahab Riaz': 27, 'Mehedi Hasan Rana': 26, 'Ebadot Hossain': 26, 'Khaled Ahmed': 24, 'Monir Hossain': 22, 'Kesrick Williams': 22, 'Mohammad Irfan': 22, 'Rayad Emrit': 21, 'Sohrawordi Shuvo': 20, 'Alfonso Thomas': 20, 'Afif Hossain': 20, 'Mujeeb Ur Rahman': 20, 'Rashid Khan': 19, 'Soumya Sarkar': 19, 'Shuvagata Hom': 18, 'Nayeem Hasan': 17, 'Ashar Zaidi': 17, 'Nasum Ahmed': 17, 'Muktar Ali': 16, 'Krishmar Santokie': 16, 'Mosaddek Hossain': 16, 'Hasan Ali': 16, 'Isuru Udana': 16, 'Benny Howell': 16, 'Shoaib Malik': 15, 'Nahidul Islam': 15, 'Elton Chigumbura': 15, 'Lewis Gregory': 15, 'Kabir Ali': 14, 'Samit Patel': 14, 'Subashis Roy': 14, 'Yasir Arafat': 13, 'Seekkuge Prasanna': 13, 'Dwayne Smith': 13, 'Shoriful Islam': 13, 'Liam Dawson': 13, \"Kevin O'Brien\": 12, 'Mohammad Nawaz': 12, 'Yasir Shah': 12, 'Naved-ul-Hasan': 11, 'Dilshan Munaweera': 11, 'James Franklin': 11, 'Naeem Islam jnr': 11, 'Fidel Edwards': 11, 'David Wiese': 11, 'Ziaur Rahman': 11, 'Imran Khan': 11, 'Shadab Khan': 11, 'Jofra Archer': 10, 'Liam Plunkett': 10, 'Carlos Brathwaite': 10, 'Qazi Onik': 10, 'Jacob Oram': 10, 'Shaun Tait': 10, 'Shapoor Zadran': 10, 'Daren Sammy': 10, 'Nuwan Kulasekara': 10, 'Tanvir Islam': 10, 'Hasan Mahmud': 10, 'Sean Ervine': 9, 'Lasith Malinga': 9, 'Qais Ahmad': 9, 'Marlon Samuels': 8, 'Cameron Delport': 8, 'Luis Reece': 8, 'Dirk Nannes': 8, 'Ryan ten Doeschate': 8, 'Mrittunjoy Chowdhury': 8, 'Nazmul Hossain': 7, 'Alauddin Babu': 7, 'Mohammad Sharif': 7, 'Hamid Hassan': 7, 'Al Islam': 7, 'Peter Trego': 6, 'Naeem Islam': 6, 'Sikandar Raza': 6, 'Kaushal Lokuarachchi': 6, 'Daniel Harris': 6, 'Mukidul Islam': 6, 'Sherfane Rutherford': 6, 'Abdul Razzaq': 5, 'Kieron Pollard': 5, 'Mohammad Ashraful': 5, 'Noor Hossain': 5, 'Tim Bresnan': 5, 'Chris Liddle': 5, 'Dimitri Mascarenhas': 5, 'Ben Edmondson': 5, 'Farhad Hossain': 5, 'Mominul Haque': 5, 'Saju Datta': 5, 'Dasun Shanaka': 5, 'Sanjit Saha': 5, 'Tymal Mills': 5, 'Naveen-ul-Haq': 5, 'Alzarri Joseph': 5, 'Karim Janat': 5, 'Saeed Ajmal': 4, 'Sanath Jayasuriya': 4, 'Shahadat Hossain': 4, 'Asif Ahmed': 4, 'Ahmed Shehzad': 4, 'Hossain Ali': 4, 'Tanbir Hayder': 4, 'Samuel Badree': 4, 'Dolar Mahmud': 4, 'Farveez Maharoof': 4, 'Tillakaratne Dilshan': 4, 'Sajedul Islam': 4, 'Paul Stirling': 4, 'Mohammad Hafeez': 4, 'Sandeep Lamichhane': 4, 'Hardus Viljoen': 4, 'Rumman Raees': 4, 'Jake Lintott': 4, 'Shafiqul Islam': 4, 'Aminul Islam': 4, 'Ryan Burl': 4, 'Delwar Hossain': 4, 'Marshall Ayub': 4, 'Shane Harwood': 3, 'Darren Stevens': 3, 'Brad Hogg': 3, 'Al-Amin': 3, 'Saddam Hossain': 3, 'Graeme Cremer': 3, 'Sharifullah': 3, 'Moeen Ali': 3, 'Bishawnath Halder': 3, 'Mohor Sheikh': 3, 'Andrew Birch': 3, 'Richard Gleeson': 3, 'Bilawal Bhatti': 3, 'Nikhil Dutta': 3, 'Sabbir Rahman': 3, 'Chris Gayle': 2, 'Muthiah Muralidaran': 2, 'Dilhara Lokuhettige': 2, 'Scott Styris': 2, 'Fawad Alam': 2, 'Brad Hodge': 2, 'Ross Whiteley': 2, 'Zahir Khan': 2, 'Stiaan van Zyl': 2, 'Taposh Ghosh': 2, 'Amit Kumar': 2, 'Sulieman Benn': 2, 'Murad Khan': 2, 'Danza Hyatt': 2, 'Jehan Mubarak': 2, 'Ali Khan': 2, 'Asif Hasan': 2, 'Robiul Haque': 2, 'Wayne Parnell': 2, 'Imad Wasim': 2, 'Najmul Hossain Shanto': 2, 'Anwar Ali': 2, 'Matt Coles': 2, 'Mohammad Enamul': 2, 'Ronsford Beaton': 2, 'Hasan Murad': 2, 'Andre Fletcher': 2, 'Rejaur Rahman Raja': 2, 'Tom Abell': 2, 'Faheem Ashraf': 2, 'Qaiser Abbas': 1, 'Akila Dananjaya': 1, 'Habibur Rahman': 1, 'Samiullah Shinwari': 1, 'Kyle Abbott': 1, 'Adil Rashid': 1, 'Usama Mir': 1, 'Solomon Mire': 1, 'Tapash Baisya': 1, 'Mahbubul Alam': 1, 'Dawid Malan': 1, 'Ariful Haque': 1, 'Minhajul Abedin Afridi': 1, 'Ajantha Mendis': 1, 'Mohammad Asghar': 1, 'Sachithra Senanayake': 1, 'Hammad Azam': 1, 'Grant Elliott': 1, 'Taibur Rahman': 1, 'Will Jacks': 1, 'Salauddin Sakil': 1, 'Robiul Islam Robi': 1, 'Ifran Hossain': 1, 'Nazmul Hossain Milon': 1, 'Johnson Charles': 1, 'Shamsur Rahman': 1, 'Syed Rasel': 0, 'Andre Adams': 0, 'Talha Jubair': 0, 'Faisal Hossain': 0, 'Gary Keedy': 0, 'Danushka Gunathilaka': 0, 'Nihaduzzaman': 0, 'Chris Jordan': 0, 'Ghulam Mudassar': 0, 'Simon Katich': 0, 'Mahmudul Hasan': 0, 'Josh Cobb': 0, 'Cameron Borgas': 0, 'Chamara Kapugedera': 0, 'Jeevan Mendis': 0, 'Shykat Ali': 0, 'Sohail Khan': 0, 'Milinda Siriwardana': 0, 'Fazle Mahmud': 0, 'Yasir Ali': 0, 'Shiraz Ahmed': 0, 'Sumon Khan': 0, 'Towhid Hridoy': 0, 'Rishad Hossain': 0, 'Aamer Yamin': 0, 'Mehrab Hossain jnr': 0, 'Raza Ali Dar': 0}\n",
            "Names of the top 5 W elements:  ['Shakib Al Hasan', 'Rubel Hossain', 'Mashrafe Mortaza', 'Taskin Ahmed', 'Shafiul Islam']\n",
            "Values of the top 5 W elements:  [116, 95, 84, 79, 78]\n"
          ]
        },
        {
          "output_type": "display_data",
          "data": {
            "text/plain": [
              "<Figure size 1500x1000 with 1 Axes>"
            ],
            "image/png": "[encoded data removed]"
          },
          "metadata": {}
        }
      ]
    },
    {
      "cell_type": "code",
      "source": [
        "# Let's analyze data for runs\n",
        "analyzeBowlers(df3, 'R')"
      ],
      "metadata": {
        "colab": {
          "base_uri": "https://localhost:8080/",
          "height": 919
        },
        "id": "si-u_jd5OfZP",
        "outputId": "03b09d5c-deaf-44b9-c0d6-1adaddc7bf7a"
      },
      "execution_count": 24,
      "outputs": [
        {
          "output_type": "stream",
          "name": "stdout",
          "text": [
            "Length of the dictionary:  263\n",
            "Dictionary of R in descending order by value:  {'Mashrafe Mortaza': 2143, 'Shafiul Islam': 2014, 'Shakib Al Hasan': 2002, 'Rubel Hossain': 1977, 'Farhad Reza': 1843, 'Al-Amin Hossain': 1609, 'Taskin Ahmed': 1551, 'Arafat Sunny': 1487, 'Nazmul Islam': 1442, 'Sohag Gazi': 1372, 'Mehidy Hasan Miraz': 1330, 'Taijul Islam': 1291, 'Andre Russell': 1244, 'Abu Jayed': 1223, 'Thisara Perera': 1193, 'Abu Hider': 1171, 'Mustafizur Rahman': 1104, 'Abul Hasan': 1095, 'Mohammad Nabi': 1079, 'Kamrul Islam': 1060, 'Dwayne Bravo': 1050, 'Sunzamul Islam': 1037, 'Mahmudullah': 1033, 'Nasir Hossain': 1005, 'Mahedi Hasan': 965, 'Mohammad Sami': 950, 'Shahid Afridi': 949, 'Mosharraf Hossain': 937, 'Nabil Samad': 927, 'Kevon Cooper': 883, 'Mohammad Saifuddin': 834, 'Abdur Razzak': 784, 'Saqlain Sajib': 776, 'Sohail Tanvir': 733, 'Sunil Narine': 702, 'Ravi Bopara': 693, 'Sohrawordi Shuvo': 672, 'Alok Kapali': 668, 'Monir Hossain': 667, 'Junaid Khan': 655, 'Shohidul Islam': 630, 'Mohammad Amir': 609, 'Azhar Mahmood': 604, 'Rayad Emrit': 593, 'Kesrick Williams': 590, 'Robbie Frylinck': 590, 'Mohammad Shahid': 587, 'Subashis Roy': 572, 'Enamul Haque jnr': 556, 'Ebadot Hossain': 553, 'Nayeem Hasan': 552, 'Mohammad Irfan': 551, 'Shuvagata Hom': 533, 'Nasum Ahmed': 523, 'Khaled Ahmed': 521, 'Elias Sunny': 502, 'Muktar Ali': 501, 'Shoaib Malik': 485, 'Afif Hossain': 482, 'Shoriful Islam': 468, 'Benny Howell': 458, 'Krishmar Santokie': 456, 'Mehedi Hasan Rana': 456, 'Mosaddek Hossain': 450, 'Seekkuge Prasanna': 442, 'Mohammad Sharif': 437, 'Wahab Riaz': 431, 'Carlos Brathwaite': 416, 'David Wiese': 407, 'Soumya Sarkar': 396, 'Isuru Udana': 392, 'Kabir Ali': 386, 'Hasan Mahmud': 379, 'Dilshan Munaweera': 378, 'Elton Chigumbura': 370, 'Lasith Malinga': 333, 'Liam Dawson': 323, 'Rashid Khan': 319, 'Liam Plunkett': 311, 'Dwayne Smith': 306, 'Naeem Islam jnr': 305, 'Naved-ul-Hasan': 303, 'Samit Patel': 303, 'Fidel Edwards': 302, 'Daren Sammy': 301, 'Nahidul Islam': 300, 'Mujeeb Ur Rahman': 299, 'Alfonso Thomas': 298, 'Lewis Gregory': 298, 'Marlon Samuels': 273, 'James Franklin': 272, 'Sean Ervine': 271, 'Cameron Delport': 265, 'Peter Trego': 260, 'Yasir Arafat': 257, 'Yasir Shah': 254, 'Sikandar Raza': 252, 'Alauddin Babu': 246, 'Hasan Ali': 245, \"Kevin O'Brien\": 243, 'Shahadat Hossain': 242, 'Shadab Khan': 240, 'Jofra Archer': 237, 'Mohammad Nawaz': 237, 'Dasun Shanaka': 230, 'Abdul Razzaq': 229, 'Qais Ahmad': 223, 'Mukidul Islam': 220, 'Ahmed Shehzad': 219, 'Tanvir Islam': 216, 'Chris Liddle': 213, 'Ziaur Rahman': 212, 'Imran Khan': 206, 'Naveen-ul-Haq': 198, 'Ben Edmondson': 197, 'Qazi Onik': 192, 'Shapoor Zadran': 192, 'Shaun Tait': 190, 'Ryan ten Doeschate': 190, 'Dirk Nannes': 186, 'Tillakaratne Dilshan': 185, 'Ashar Zaidi': 181, 'Kieron Pollard': 176, 'Nazmul Hossain': 176, 'Brad Hogg': 176, 'Anwar Ali': 170, 'Asif Ahmed': 166, 'Tanbir Hayder': 163, 'Saddam Hossain': 162, 'Al-Amin': 161, 'Chris Gayle': 156, 'Nuwan Kulasekara': 155, 'Mahmudul Hasan': 154, 'Luis Reece': 150, 'Jacob Oram': 148, 'Al Islam': 147, 'Noor Hossain': 145, 'Tim Bresnan': 145, 'Robiul Haque': 145, 'Hossain Ali': 142, 'Daniel Harris': 141, 'Saeed Ajmal': 139, 'Bishawnath Halder': 138, 'Mohammad Ashraful': 137, 'Sumon Khan': 137, 'Sandeep Lamichhane': 136, 'Faheem Ashraf': 136, 'Sherfane Rutherford': 134, 'Kaushal Lokuarachchi': 129, 'Delwar Hossain': 123, 'Naeem Islam': 122, 'Rejaur Rahman Raja': 113, 'Zahir Khan': 112, 'Asif Hasan': 111, 'Rumman Raees': 108, 'Sulieman Benn': 107, 'Sanjit Saha': 107, 'Darren Stevens': 102, 'Mohammad Hafeez': 101, 'Bilawal Bhatti': 101, 'Samuel Badree': 100, 'Mrittunjoy Chowdhury': 100, 'Shafiqul Islam': 100, 'Samiullah Shinwari': 99, 'Sachithra Senanayake': 98, 'Farhad Hossain': 97, 'Murad Khan': 97, 'Karim Janat': 97, 'Sanath Jayasuriya': 96, 'Hamid Hassan': 95, 'Muthiah Muralidaran': 94, 'Taposh Ghosh': 92, 'Matt Coles': 90, 'Moeen Ali': 89, 'Usama Mir': 85, 'Dolar Mahmud': 85, 'Aminul Islam': 85, 'Scott Styris': 83, 'Tymal Mills': 83, 'Kyle Abbott': 82, 'Robiul Islam Robi': 82, 'Mominul Haque': 77, 'Farveez Maharoof': 77, 'Andrew Birch': 77, 'Syed Rasel': 75, 'Danza Hyatt': 75, 'Jeevan Mendis': 75, 'Dawid Malan': 74, 'Dimitri Mascarenhas': 73, 'Amit Kumar': 71, 'Andre Adams': 70, 'Sajedul Islam': 68, 'Ajantha Mendis': 68, 'Alzarri Joseph': 66, 'Ronsford Beaton': 65, 'Brad Hodge': 64, 'Mohor Sheikh': 63, 'Tapash Baisya': 62, 'Ariful Haque': 62, 'Hardus Viljoen': 62, 'Najmul Hossain Shanto': 62, 'Habibur Rahman': 61, 'Ali Khan': 61, 'Saju Datta': 60, 'Imad Wasim': 60, 'Qaiser Abbas': 56, 'Jake Lintott': 55, 'Richard Gleeson': 53, 'Paul Stirling': 52, 'Grant Elliott': 52, 'Sharifullah': 50, 'Chris Jordan': 49, 'Hammad Azam': 48, 'Akila Dananjaya': 47, 'Stiaan van Zyl': 44, 'Jehan Mubarak': 43, 'Hasan Murad': 43, 'Danushka Gunathilaka': 42, 'Sabbir Rahman': 42, 'Shykat Ali': 41, 'Mohammad Enamul': 41, 'Shane Harwood': 40, 'Nihaduzzaman': 39, 'Will Jacks': 39, 'Graeme Cremer': 38, 'Ifran Hossain': 38, 'Ross Whiteley': 36, 'Josh Cobb': 35, 'Ryan Burl': 34, 'Johnson Charles': 34, 'Fawad Alam': 32, 'Tom Abell': 32, 'Adil Rashid': 31, 'Ghulam Mudassar': 31, 'Sohail Khan': 30, 'Dilhara Lokuhettige': 29, 'Milinda Siriwardana': 29, 'Rishad Hossain': 29, 'Aamer Yamin': 29, 'Chamara Kapugedera': 28, 'Mohammad Asghar': 27, 'Salauddin Sakil': 27, 'Mahbubul Alam': 26, 'Nazmul Hossain Milon': 25, 'Wayne Parnell': 22, 'Andre Fletcher': 22, 'Faisal Hossain': 21, 'Minhajul Abedin Afridi': 20, 'Fazle Mahmud': 20, 'Marshall Ayub': 20, 'Gary Keedy': 18, 'Nikhil Dutta': 18, 'Shiraz Ahmed': 18, 'Raza Ali Dar': 18, 'Shamsur Rahman': 17, 'Talha Jubair': 16, 'Simon Katich': 15, 'Cameron Borgas': 14, 'Towhid Hridoy': 11, 'Mehrab Hossain jnr': 11, 'Yasir Ali': 8, 'Taibur Rahman': 5, 'Solomon Mire': 4}\n",
            "Names of the top 5 R elements:  ['Mashrafe Mortaza', 'Shafiul Islam', 'Shakib Al Hasan', 'Rubel Hossain', 'Farhad Reza']\n",
            "Values of the top 5 R elements:  [2143, 2014, 2002, 1977, 1843]\n"
          ]
        },
        {
          "output_type": "display_data",
          "data": {
            "text/plain": [
              "<Figure size 1500x1000 with 1 Axes>"
            ],
            "image/png": "[encoded data removed]"
          },
          "metadata": {}
        }
      ]
    },
    {
      "cell_type": "code",
      "source": [
        "# Let's analyze data for overs\n",
        "analyzeBowlers(df3, 'O')"
      ],
      "metadata": {
        "colab": {
          "base_uri": "https://localhost:8080/",
          "height": 919
        },
        "id": "2PEJXYH7RdMN",
        "outputId": "295a4879-faab-4fce-c011-8e0e9a68c684"
      },
      "execution_count": 25,
      "outputs": [
        {
          "output_type": "stream",
          "name": "stdout",
          "text": [
            "Length of the dictionary:  263\n",
            "Dictionary of O in descending order by value:  {'Mashrafe Mortaza': 311, 'Shakib Al Hasan': 302, 'Rubel Hossain': 249, 'Shafiul Islam': 237, 'Arafat Sunny': 211, 'Farhad Reza': 210, 'Nazmul Islam': 193, 'Sohag Gazi': 190, 'Taskin Ahmed': 181, 'Al-Amin Hossain': 181, 'Mehidy Hasan Miraz': 179, 'Taijul Islam': 177, 'Mustafizur Rahman': 160, 'Mohammad Nabi': 159, 'Andre Russell': 152, 'Mohammad Sami': 150, 'Abu Jayed': 150, 'Shahid Afridi': 148, 'Mosharraf Hossain': 148, 'Thisara Perera': 148, 'Mahmudullah': 145, 'Abu Hider': 145, 'Kevon Cooper': 139, 'Mahedi Hasan': 138, 'Nasir Hossain': 136, 'Nabil Samad': 134, 'Sunzamul Islam': 133, 'Dwayne Bravo': 125, 'Abul Hasan': 120, 'Sunil Narine': 120, 'Kamrul Islam': 120, 'Sohail Tanvir': 113, 'Abdur Razzak': 111, 'Ravi Bopara': 106, 'Saqlain Sajib': 105, 'Mohammad Saifuddin': 102, 'Junaid Khan': 94, 'Monir Hossain': 93, 'Mohammad Amir': 93, 'Enamul Haque jnr': 86, 'Sohrawordi Shuvo': 86, 'Mohammad Shahid': 84, 'Alok Kapali': 83, 'Mohammad Irfan': 83, 'Azhar Mahmood': 79, 'Robbie Frylinck': 79, 'Shohidul Islam': 79, 'Rayad Emrit': 77, 'Nasum Ahmed': 77, 'Shoaib Malik': 75, 'Nayeem Hasan': 75, 'Elias Sunny': 74, 'Ebadot Hossain': 73, 'Kesrick Williams': 68, 'Benny Howell': 68, 'Subashis Roy': 67, 'Shuvagata Hom': 65, 'Seekkuge Prasanna': 65, 'Khaled Ahmed': 63, 'Mujeeb Ur Rahman': 63, 'Mosaddek Hossain': 62, 'Rashid Khan': 60, 'Muktar Ali': 59, 'Dilshan Munaweera': 59, 'Wahab Riaz': 58, 'Krishmar Santokie': 57, 'Mehedi Hasan Rana': 55, 'Afif Hossain': 54, 'Isuru Udana': 53, 'Nahidul Islam': 52, 'Mohammad Sharif': 49, 'David Wiese': 47, 'Liam Dawson': 47, 'Samit Patel': 46, 'Soumya Sarkar': 46, 'Shoriful Islam': 46, 'Carlos Brathwaite': 44, 'Alfonso Thomas': 43, 'Naved-ul-Hasan': 42, 'Kabir Ali': 42, 'Naeem Islam jnr': 41, 'Hasan Mahmud': 41, 'Yasir Shah': 40, 'Marlon Samuels': 39, 'Lasith Malinga': 39, 'Lewis Gregory': 39, 'Fidel Edwards': 38, 'Elton Chigumbura': 38, 'Ashar Zaidi': 37, 'Daren Sammy': 37, 'Mohammad Nawaz': 36, 'Jofra Archer': 34, 'Liam Plunkett': 34, 'Hasan Ali': 34, 'Shadab Khan': 34, 'Dwayne Smith': 33, \"Kevin O'Brien\": 33, 'Sikandar Raza': 32, 'Qais Ahmad': 32, 'Tanvir Islam': 32, 'Yasir Arafat': 31, 'James Franklin': 31, 'Cameron Delport': 31, 'Sean Ervine': 30, 'Jacob Oram': 30, 'Dirk Nannes': 30, 'Shapoor Zadran': 30, 'Imran Khan': 30, 'Chris Liddle': 27, 'Shaun Tait': 27, 'Nuwan Kulasekara': 27, 'Abdul Razzaq': 26, 'Peter Trego': 26, 'Brad Hogg': 26, 'Shahadat Hossain': 26, 'Tillakaratne Dilshan': 26, 'Ziaur Rahman': 25, 'Sandeep Lamichhane': 24, 'Naveen-ul-Haq': 24, 'Kieron Pollard': 23, 'Ahmed Shehzad': 23, 'Mukidul Islam': 23, 'Luis Reece': 22, 'Ben Edmondson': 22, 'Daniel Harris': 22, 'Dasun Shanaka': 22, 'Alauddin Babu': 21, 'Qazi Onik': 21, 'Al Islam': 21, 'Nazmul Hossain': 20, 'Saeed Ajmal': 19, 'Chris Gayle': 19, 'Asif Ahmed': 19, 'Bishawnath Halder': 19, 'Ryan ten Doeschate': 19, 'Anwar Ali': 19, 'Noor Hossain': 18, 'Tanbir Hayder': 18, 'Al-Amin': 18, 'Asif Hasan': 18, 'Sherfane Rutherford': 17, 'Tim Bresnan': 16, 'Zahir Khan': 16, 'Samuel Badree': 16, 'Hamid Hassan': 16, 'Rumman Raees': 16, 'Mohammad Ashraful': 15, 'Naeem Islam': 15, 'Mohammad Hafeez': 15, 'Sanjit Saha': 15, 'Muthiah Muralidaran': 14, 'Darren Stevens': 14, 'Hossain Ali': 14, 'Saddam Hossain': 14, 'Kaushal Lokuarachchi': 14, 'Mahmudul Hasan': 14, 'Farhad Hossain': 14, 'Sachithra Senanayake': 14, 'Bilawal Bhatti': 14, 'Delwar Hossain': 14, 'Sanath Jayasuriya': 13, 'Aminul Islam': 13, 'Sumon Khan': 13, 'Faheem Ashraf': 13, 'Dimitri Mascarenhas': 12, 'Sulieman Benn': 12, 'Shafiqul Islam': 12, 'Rejaur Rahman Raja': 12, 'Scott Styris': 11, 'Samiullah Shinwari': 11, 'Usama Mir': 11, 'Taposh Ghosh': 11, 'Mominul Haque': 11, 'Dawid Malan': 11, 'Tymal Mills': 11, 'Jake Lintott': 11, 'Karim Janat': 11, 'Kyle Abbott': 10, 'Moeen Ali': 10, 'Murad Khan': 10, 'Sajedul Islam': 10, 'Robiul Haque': 10, 'Matt Coles': 10, 'Mrittunjoy Chowdhury': 10, 'Farveez Maharoof': 9, 'Mohor Sheikh': 9, 'Jeevan Mendis': 9, 'Andre Adams': 8, 'Graeme Cremer': 8, 'Dolar Mahmud': 8, 'Danza Hyatt': 8, 'Saju Datta': 8, 'Andrew Birch': 8, 'Hardus Viljoen': 8, 'Imad Wasim': 8, 'Najmul Hossain Shanto': 8, 'Mohammad Enamul': 8, 'Ronsford Beaton': 8, 'Robiul Islam Robi': 8, 'Shane Harwood': 7, 'Akila Dananjaya': 7, 'Sharifullah': 7, 'Ali Khan': 7, 'Ajantha Mendis': 7, 'Alzarri Joseph': 7, 'Ryan Burl': 7, 'Syed Rasel': 6, 'Qaiser Abbas': 6, 'Brad Hodge': 6, 'Nihaduzzaman': 6, 'Amit Kumar': 6, 'Paul Stirling': 6, 'Richard Gleeson': 6, 'Mohammad Asghar': 6, 'Grant Elliott': 6, 'Hasan Murad': 6, 'Habibur Rahman': 5, 'Chris Jordan': 5, 'Tapash Baisya': 5, 'Ariful Haque': 5, 'Hammad Azam': 5, 'Shykat Ali': 5, 'Sabbir Rahman': 5, 'Will Jacks': 5, 'Dilhara Lokuhettige': 4, 'Fawad Alam': 4, 'Danushka Gunathilaka': 4, 'Adil Rashid': 4, 'Ross Whiteley': 4, 'Stiaan van Zyl': 4, 'Josh Cobb': 4, 'Jehan Mubarak': 4, 'Chamara Kapugedera': 4, 'Nikhil Dutta': 4, 'Aamer Yamin': 4, 'Marshall Ayub': 4, 'Minhajul Abedin Afridi': 3, 'Wayne Parnell': 3, 'Sohail Khan': 3, 'Milinda Siriwardana': 3, 'Andre Fletcher': 3, 'Salauddin Sakil': 3, 'Shiraz Ahmed': 3, 'Tom Abell': 3, 'Ifran Hossain': 3, 'Nazmul Hossain Milon': 3, 'Johnson Charles': 3, 'Gary Keedy': 2, 'Ghulam Mudassar': 2, 'Mahbubul Alam': 2, 'Fazle Mahmud': 2, 'Towhid Hridoy': 2, 'Rishad Hossain': 2, 'Shamsur Rahman': 2, 'Talha Jubair': 1, 'Faisal Hossain': 1, 'Solomon Mire': 1, 'Simon Katich': 1, 'Cameron Borgas': 1, 'Taibur Rahman': 1, 'Yasir Ali': 1, 'Mehrab Hossain jnr': 1, 'Raza Ali Dar': 1}\n",
            "Names of the top 5 O elements:  ['Mashrafe Mortaza', 'Shakib Al Hasan', 'Rubel Hossain', 'Shafiul Islam', 'Arafat Sunny']\n",
            "Values of the top 5 O elements:  [311, 302, 249, 237, 211]\n"
          ]
        },
        {
          "output_type": "display_data",
          "data": {
            "text/plain": [
              "<Figure size 1500x1000 with 1 Axes>"
            ],
            "image/png": "[encoded data removed]"
          },
          "metadata": {}
        }
      ]
    },
    {
      "cell_type": "markdown",
      "source": [
        "### Analysis of the Bangladesh Players Completed!"
      ],
      "metadata": {
        "id": "zagDUAJRUuMG"
      }
    }
  ]
}